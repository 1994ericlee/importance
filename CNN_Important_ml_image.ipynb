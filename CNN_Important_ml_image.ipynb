{
  "cells": [
    {
      "cell_type": "code",
      "execution_count": 10,
      "metadata": {
        "colab": {
          "base_uri": "https://localhost:8080/"
        },
        "id": "NKGHuGJAhClO",
        "outputId": "8a49165d-2c09-4bb1-ff93-5edee7d2074c"
      },
      "outputs": [
        {
          "name": "stderr",
          "output_type": "stream",
          "text": [
            "fatal: destination path 'importance' already exists and is not an empty directory.\n"
          ]
        }
      ],
      "source": [
        "!git clone https://github.com/dmc27/importance.git"
      ]
    },
    {
      "cell_type": "code",
      "execution_count": 88,
      "metadata": {
        "id": "Sjwr6g94hIGF"
      },
      "outputs": [],
      "source": [
        "import numpy as np\n",
        "import pandas as pd\n",
        "import cv2 as cv\n",
        "import seaborn as sns\n",
        "import matplotlib\n",
        "matplotlib.rcParams['figure.dpi'] = 125\n",
        "import matplotlib.pyplot as plt\n",
        "\n",
        "from tqdm import tqdm\n",
        "from scipy import signal\n",
        "\n",
        "import tensorflow as tf\n",
        "from tensorflow import keras\n",
        "from tensorflow.keras.models import Sequential\n",
        "from tensorflow.keras.layers import Dense\n",
        "from tensorflow.keras.layers import Conv2D, Flatten, MaxPooling2D, BatchNormalization\n",
        "from tensorflow.keras.callbacks import ModelCheckpoint\n",
        "\n",
        "\n",
        "from sklearn.model_selection import train_test_split\n",
        "from sklearn.metrics import classification_report\n",
        "from sklearn.metrics import confusion_matrix\n",
        "from sklearn.metrics import accuracy_score\n",
        "from sklearn.naive_bayes import GaussianNB\n",
        "from sklearn.tree import DecisionTreeClassifier\n",
        "from sklearn.svm import SVC"
      ]
    },
    {
      "cell_type": "code",
      "execution_count": 70,
      "metadata": {
        "id": "r98LZAMKh8Ai"
      },
      "outputs": [],
      "source": [
        "data = pd.read_excel('database\\img_importance.xlsx', usecols=\"B:H\")\n",
        "PATCH_SIZE = 16\n",
        "POSITION_LAMBDA = 1\n",
        "TARING_SIZE = 0.2\n",
        "IMAGE_AUG_NUM = 75"
      ]
    },
    {
      "cell_type": "code",
      "execution_count": 71,
      "metadata": {
        "id": "g-VZqYZhzov4"
      },
      "outputs": [],
      "source": [
        "# divide one image into many patches(patch size:8*8 or 16*16 or 32*32), each patch coresponds to imporance of class(0,1,2)\n",
        "# img: a original image\n",
        "# patches: a list of patches\n",
        "# imp_img_matrics: a matrix of importance of image(width,height,class)\n",
        "# patch_imp: a list of matrix of importance of patches\n",
        "def parse_img(img, patches, imp_img_matrics, patches_imp):\n",
        "  num_rows = img.shape[0]\n",
        "  num_cols = img.shape[1]\n",
        "  \n",
        "  #initial patch size\n",
        "  patch = np.zeros((PATCH_SIZE, PATCH_SIZE, 3))\n",
        "  # add imporance of class to each patch\n",
        "  patch_imp = np.zeros((PATCH_SIZE, PATCH_SIZE))\n",
        "  # add position information to the patch\n",
        "  position_row = np.zeros((PATCH_SIZE, PATCH_SIZE, 1))\n",
        "  position_col = np.zeros((PATCH_SIZE, PATCH_SIZE, 1))\n",
        "  \n",
        "  for r0 in range(0, num_rows-1, PATCH_SIZE):\n",
        "    for c0 in range(0, num_cols-1, PATCH_SIZE):\n",
        "  \n",
        "      for r in range(PATCH_SIZE):\n",
        "        for c in range(PATCH_SIZE):\n",
        "          assert(r0 + r < num_rows)\n",
        "          assert(c0 + c < num_cols)\n",
        "          \n",
        "          patch[r, c] =img[r0+r, c0+c]\n",
        "          patch_imp[r, c] = imp_img_matrics[r0+r, c0+c]\n",
        "          position_row[r, c] = r0 / (num_rows-1)\n",
        "          position_col[r, c] = c0 / (num_cols-1)\n",
        "        \n",
        "      ## Calculate the maximum number of classes corresponding to each pixel in patch, representing the important class of this patch\n",
        "      patches_imp.append(np.argmax(np.bincount(patch_imp.flatten().astype(int))))\n",
        "      \n",
        "      norm_patch = patch.copy()/255.0\n",
        "      # each patch has five channels(R,G,B,position_row,position_col)\n",
        "      five_d_patch = np.concatenate((norm_patch, position_row), axis=2)\n",
        "      five_d_patch = np.concatenate((five_d_patch, position_col), axis=2)\n",
        "      #add each patch to the list of patches\n",
        "      patches.append(five_d_patch)"
      ]
    },
    {
      "cell_type": "code",
      "execution_count": 72,
      "metadata": {
        "colab": {
          "base_uri": "https://localhost:8080/"
        },
        "id": "p-6Y4WwziOrR",
        "outputId": "4c97f99d-b26b-4183-aa69-0889936e3114"
      },
      "outputs": [
        {
          "name": "stderr",
          "output_type": "stream",
          "text": [
            "100%|██████████| 150/150 [04:14<00:00,  1.69s/it]\n"
          ]
        }
      ],
      "source": [
        "idx = 0\n",
        "patches = []\n",
        "patches_imp = []\n",
        "\n",
        "tot_num_objs = 581\n",
        "obj_sizes = np.zeros(tot_num_objs)\n",
        "obj_locs = np.zeros(tot_num_objs)\n",
        "\n",
        "for img_idx in tqdm(range(1, 151)):\n",
        "  img_name = \"img\" + str(img_idx)\n",
        "  img_data = data.loc[data[\"img_name\"]==img_name]\n",
        "\n",
        "  msk_name = img_name + \"_msk\"\n",
        "  src_img = cv.imread(\"database/imgs/\" + img_name + \".bmp\")\n",
        "  src_img = cv.cvtColor(src_img, cv.COLOR_BGR2RGB)\n",
        "  msk_img = cv.imread(\"database/imgs/msk/\" + msk_name + \".bmp\")\n",
        "  msk_img = cv.cvtColor(msk_img, cv.COLOR_BGR2RGB)\n",
        "\n",
        "  num_rows = src_img.shape[0]\n",
        "  num_cols = src_img.shape[1]\n",
        "\n",
        "  imp_img_matrics = np.zeros((num_rows, num_cols))\n",
        "\n",
        "  for obj_idx, obj_data in img_data.iterrows():\n",
        "    obj_name = obj_data[\"obj_name\"]\n",
        "    obj_imp = obj_data[\"class\"]\n",
        "    msk_r = obj_data[\"R\"]\n",
        "    msk_g = obj_data[\"G\"]\n",
        "    msk_b = obj_data[\"B\"]\n",
        "    \n",
        "\n",
        "    avg_r = 0\n",
        "    avg_c = 0\n",
        "    obj_size = 0\n",
        "    for r in range(num_rows):\n",
        "      for c in range(num_cols):\n",
        "        if msk_img[r, c, 0] == msk_r and \\\n",
        "          msk_img[r, c, 1] == msk_g and \\\n",
        "          msk_img[r, c, 2] == msk_b:\n",
        "          avg_r += r\n",
        "          avg_c += c\n",
        "          obj_size += 1 \n",
        "          imp_img_matrics[r, c] = obj_imp\n",
        "\n",
        "    avg_r /= obj_size\n",
        "    avg_c /= obj_size\n",
        "  \n",
        "    obj_loc = \\\n",
        "      np.sqrt((avg_r-num_rows/2)**2 + (avg_c-num_cols/2)**2)\n",
        "    obj_loc = 100*obj_loc/289.13175\n",
        "    \n",
        "    obj_sizes[idx] = obj_size\n",
        "    obj_locs[idx] = obj_loc\n",
        "    idx += 1\n",
        "\n",
        "  if (img_idx<=IMAGE_AUG_NUM):\n",
        "    parse_img(np.fliplr(src_img), patches, np.fliplr(imp_img_matrics), patches_imp)\n",
        "  \n",
        "  parse_img(src_img, patches, imp_img_matrics, patches_imp)\n"
      ]
    },
    {
      "cell_type": "code",
      "execution_count": 73,
      "metadata": {},
      "outputs": [
        {
          "name": "stdout",
          "output_type": "stream",
          "text": [
            "X_trn shape: (90000, 16, 16, 5)\n"
          ]
        }
      ],
      "source": [
        "# Half of the patches are used for training, the other half for testing\n",
        "\n",
        "X_trn = np.zeros((int(len(patches)/3*2), PATCH_SIZE, PATCH_SIZE, 5))\n",
        "y_trn = np.zeros((int(len(patches_imp)/3*2), 1))\n",
        "\n",
        "for i in range(int((len(patches)/3*2))):\n",
        "  X_trn[i,:] = patches[i]\n",
        "  y_trn[i] = patches_imp[i]\n",
        "print(\"X_trn shape:\", X_trn.shape)\n"
      ]
    },
    {
      "cell_type": "code",
      "execution_count": 76,
      "metadata": {
        "colab": {
          "base_uri": "https://localhost:8080/"
        },
        "id": "6ItEGVEcZXwL",
        "outputId": "d12d4668-c446-4baf-d32d-c90684d4ad91"
      },
      "outputs": [
        {
          "name": "stdout",
          "output_type": "stream",
          "text": [
            "Creating new model\n",
            "Model: \"sequential_8\"\n",
            "_________________________________________________________________\n",
            " Layer (type)                Output Shape              Param #   \n",
            "=================================================================\n",
            " conv2d_24 (Conv2D)          (None, 16, 16, 2)         92        \n",
            "                                                                 \n",
            " max_pooling2d_24 (MaxPoolin  (None, 8, 8, 2)          0         \n",
            " g2D)                                                            \n",
            "                                                                 \n",
            " batch_normalization_24 (Bat  (None, 8, 8, 2)          8         \n",
            " chNormalization)                                                \n",
            "                                                                 \n",
            " conv2d_25 (Conv2D)          (None, 8, 8, 4)           76        \n",
            "                                                                 \n",
            " max_pooling2d_25 (MaxPoolin  (None, 4, 4, 4)          0         \n",
            " g2D)                                                            \n",
            "                                                                 \n",
            " batch_normalization_25 (Bat  (None, 4, 4, 4)          16        \n",
            " chNormalization)                                                \n",
            "                                                                 \n",
            " conv2d_26 (Conv2D)          (None, 4, 4, 8)           296       \n",
            "                                                                 \n",
            " max_pooling2d_26 (MaxPoolin  (None, 2, 2, 8)          0         \n",
            " g2D)                                                            \n",
            "                                                                 \n",
            " batch_normalization_26 (Bat  (None, 2, 2, 8)          32        \n",
            " chNormalization)                                                \n",
            "                                                                 \n",
            " flatten_8 (Flatten)         (None, 32)                0         \n",
            "                                                                 \n",
            " dense_16 (Dense)            (None, 20)                660       \n",
            "                                                                 \n",
            " dense_17 (Dense)            (None, 3)                 63        \n",
            "                                                                 \n",
            "=================================================================\n",
            "Total params: 1,243\n",
            "Trainable params: 1,215\n",
            "Non-trainable params: 28\n",
            "_________________________________________________________________\n"
          ]
        }
      ],
      "source": [
        "reuse_pre_model = False\n",
        "\n",
        "# model_fname = \"saved_models/important_CNN.0.h5\"\n",
        "\n",
        "if reuse_pre_model and os.path.exists(model_fname):\n",
        "    print(\"Reloading previous model: \", model_fname)\n",
        "    model = load_model(model_fname)\n",
        "else:\n",
        "    print(\"Creating new model\")\n",
        "    model_fname = \"saved_models/important_CNN.0.h5\"\n",
        "\n",
        "    model = Sequential()\n",
        "    model.add(Conv2D(2, kernel_size = 3, input_shape=(PATCH_SIZE, PATCH_SIZE, 5), activation = \"relu\", padding = \"same\"))\n",
        "    model.add(MaxPooling2D(2,2))\n",
        "    model.add(BatchNormalization())\n",
        "\n",
        "    model.add(Conv2D(4, kernel_size = 3, activation = \"relu\", padding = \"same\"))\n",
        "    model.add(MaxPooling2D(2,2))\n",
        "    model.add(BatchNormalization())\n",
        "\n",
        "    model.add(Conv2D(8, kernel_size = 3, activation = \"relu\", padding = \"same\"))\n",
        "    model.add(MaxPooling2D(2,2))\n",
        "    model.add(BatchNormalization())\n",
        "\n",
        "    model.add(Flatten())\n",
        "    model.add(Dense(20, activation=\"relu\"))\n",
        "    model.add(Dense(3, activation=\"softmax\"))\n",
        "\n",
        "    model.compile(loss=\"sparse_categorical_crossentropy\", \n",
        "        optimizer=\"adam\", metrics=[\"accuracy\"])\n",
        "\n",
        "model.summary()"
      ]
    },
    {
      "cell_type": "code",
      "execution_count": 79,
      "metadata": {
        "colab": {
          "base_uri": "https://localhost:8080/"
        },
        "id": "1DNbyT9hbXop",
        "outputId": "793d2044-c98b-4fc0-88fd-7be879089df1"
      },
      "outputs": [
        {
          "name": "stdout",
          "output_type": "stream",
          "text": [
            "Epoch 1/100\n",
            "3811/3825 [============================>.] - ETA: 0s - loss: 0.9045 - accuracy: 0.5786\n",
            "Epoch 1: loss improved from inf to 0.90447, saving model to saved_models\\important_CNN.0.h5\n",
            "3825/3825 [==============================] - 13s 4ms/step - loss: 0.9045 - accuracy: 0.5786 - val_loss: 0.8005 - val_accuracy: 0.6504\n",
            "Epoch 2/100\n",
            "3819/3825 [============================>.] - ETA: 0s - loss: 0.8891 - accuracy: 0.5861\n",
            "Epoch 2: loss improved from 0.90447 to 0.88899, saving model to saved_models\\important_CNN.0.h5\n",
            "3825/3825 [==============================] - 13s 3ms/step - loss: 0.8890 - accuracy: 0.5862 - val_loss: 0.8666 - val_accuracy: 0.6002\n",
            "Epoch 3/100\n",
            "3814/3825 [============================>.] - ETA: 0s - loss: 0.8763 - accuracy: 0.5950\n",
            "Epoch 3: loss improved from 0.88899 to 0.87638, saving model to saved_models\\important_CNN.0.h5\n",
            "3825/3825 [==============================] - 13s 3ms/step - loss: 0.8764 - accuracy: 0.5949 - val_loss: 0.8496 - val_accuracy: 0.6113\n",
            "Epoch 4/100\n",
            "3823/3825 [============================>.] - ETA: 0s - loss: 0.8663 - accuracy: 0.6022\n",
            "Epoch 4: loss improved from 0.87638 to 0.86632, saving model to saved_models\\important_CNN.0.h5\n",
            "3825/3825 [==============================] - 13s 3ms/step - loss: 0.8663 - accuracy: 0.6021 - val_loss: 0.8363 - val_accuracy: 0.6220\n",
            "Epoch 5/100\n",
            "3825/3825 [==============================] - ETA: 0s - loss: 0.8569 - accuracy: 0.6087\n",
            "Epoch 5: loss improved from 0.86632 to 0.85689, saving model to saved_models\\important_CNN.0.h5\n",
            "3825/3825 [==============================] - 13s 3ms/step - loss: 0.8569 - accuracy: 0.6087 - val_loss: 0.8362 - val_accuracy: 0.6003\n",
            "Epoch 6/100\n",
            "3825/3825 [==============================] - ETA: 0s - loss: 0.8488 - accuracy: 0.6124\n",
            "Epoch 6: loss improved from 0.85689 to 0.84877, saving model to saved_models\\important_CNN.0.h5\n",
            "3825/3825 [==============================] - 13s 3ms/step - loss: 0.8488 - accuracy: 0.6124 - val_loss: 0.8359 - val_accuracy: 0.6102\n",
            "Epoch 7/100\n",
            "3811/3825 [============================>.] - ETA: 0s - loss: 0.8415 - accuracy: 0.6180\n",
            "Epoch 7: loss improved from 0.84877 to 0.84162, saving model to saved_models\\important_CNN.0.h5\n",
            "3825/3825 [==============================] - 13s 3ms/step - loss: 0.8416 - accuracy: 0.6180 - val_loss: 0.9026 - val_accuracy: 0.5822\n",
            "Epoch 8/100\n",
            "3814/3825 [============================>.] - ETA: 0s - loss: 0.8339 - accuracy: 0.6227\n",
            "Epoch 8: loss improved from 0.84162 to 0.83392, saving model to saved_models\\important_CNN.0.h5\n",
            "3825/3825 [==============================] - 13s 3ms/step - loss: 0.8339 - accuracy: 0.6226 - val_loss: 0.8959 - val_accuracy: 0.5847\n",
            "Epoch 9/100\n",
            "3815/3825 [============================>.] - ETA: 0s - loss: 0.8285 - accuracy: 0.6258\n",
            "Epoch 9: loss improved from 0.83392 to 0.82853, saving model to saved_models\\important_CNN.0.h5\n",
            "3825/3825 [==============================] - 13s 3ms/step - loss: 0.8285 - accuracy: 0.6258 - val_loss: 0.9506 - val_accuracy: 0.5544\n",
            "Epoch 10/100\n",
            "3816/3825 [============================>.] - ETA: 0s - loss: 0.8227 - accuracy: 0.6285\n",
            "Epoch 10: loss improved from 0.82853 to 0.82278, saving model to saved_models\\important_CNN.0.h5\n",
            "3825/3825 [==============================] - 13s 3ms/step - loss: 0.8228 - accuracy: 0.6284 - val_loss: 0.8736 - val_accuracy: 0.6024\n",
            "Epoch 11/100\n",
            "3822/3825 [============================>.] - ETA: 0s - loss: 0.8179 - accuracy: 0.6334\n",
            "Epoch 11: loss improved from 0.82278 to 0.81786, saving model to saved_models\\important_CNN.0.h5\n",
            "3825/3825 [==============================] - 13s 3ms/step - loss: 0.8179 - accuracy: 0.6335 - val_loss: 0.9878 - val_accuracy: 0.5453\n",
            "Epoch 12/100\n",
            "3824/3825 [============================>.] - ETA: 0s - loss: 0.8134 - accuracy: 0.6355\n",
            "Epoch 12: loss improved from 0.81786 to 0.81336, saving model to saved_models\\important_CNN.0.h5\n",
            "3825/3825 [==============================] - 13s 3ms/step - loss: 0.8134 - accuracy: 0.6355 - val_loss: 0.9071 - val_accuracy: 0.5970\n",
            "Epoch 13/100\n",
            "3816/3825 [============================>.] - ETA: 0s - loss: 0.8097 - accuracy: 0.6372\n",
            "Epoch 13: loss improved from 0.81336 to 0.80990, saving model to saved_models\\important_CNN.0.h5\n",
            "3825/3825 [==============================] - 13s 3ms/step - loss: 0.8099 - accuracy: 0.6371 - val_loss: 0.8835 - val_accuracy: 0.6000\n",
            "Epoch 14/100\n",
            "3824/3825 [============================>.] - ETA: 0s - loss: 0.8060 - accuracy: 0.6385\n",
            "Epoch 14: loss improved from 0.80990 to 0.80599, saving model to saved_models\\important_CNN.0.h5\n",
            "3825/3825 [==============================] - 13s 3ms/step - loss: 0.8060 - accuracy: 0.6385 - val_loss: 0.8790 - val_accuracy: 0.6144\n",
            "Epoch 15/100\n",
            "3814/3825 [============================>.] - ETA: 0s - loss: 0.7995 - accuracy: 0.6426\n",
            "Epoch 15: loss improved from 0.80599 to 0.79935, saving model to saved_models\\important_CNN.0.h5\n",
            "3825/3825 [==============================] - 13s 3ms/step - loss: 0.7994 - accuracy: 0.6428 - val_loss: 0.9757 - val_accuracy: 0.5625\n",
            "Epoch 16/100\n",
            "3819/3825 [============================>.] - ETA: 0s - loss: 0.7967 - accuracy: 0.6447\n",
            "Epoch 16: loss improved from 0.79935 to 0.79672, saving model to saved_models\\important_CNN.0.h5\n",
            "3825/3825 [==============================] - 13s 3ms/step - loss: 0.7967 - accuracy: 0.6447 - val_loss: 0.8830 - val_accuracy: 0.6013\n",
            "Epoch 17/100\n",
            "3814/3825 [============================>.] - ETA: 0s - loss: 0.7926 - accuracy: 0.6462\n",
            "Epoch 17: loss improved from 0.79672 to 0.79260, saving model to saved_models\\important_CNN.0.h5\n",
            "3825/3825 [==============================] - 13s 3ms/step - loss: 0.7926 - accuracy: 0.6462 - val_loss: 0.9660 - val_accuracy: 0.5598\n",
            "Epoch 18/100\n",
            "3818/3825 [============================>.] - ETA: 0s - loss: 0.7936 - accuracy: 0.6457\n",
            "Epoch 18: loss did not improve from 0.79260\n",
            "3825/3825 [==============================] - 13s 3ms/step - loss: 0.7935 - accuracy: 0.6458 - val_loss: 0.8873 - val_accuracy: 0.5974\n",
            "Epoch 19/100\n",
            "3822/3825 [============================>.] - ETA: 0s - loss: 0.7908 - accuracy: 0.6470\n",
            "Epoch 19: loss improved from 0.79260 to 0.79081, saving model to saved_models\\important_CNN.0.h5\n",
            "3825/3825 [==============================] - 13s 3ms/step - loss: 0.7908 - accuracy: 0.6470 - val_loss: 0.8997 - val_accuracy: 0.6042\n",
            "Epoch 20/100\n",
            "3818/3825 [============================>.] - ETA: 0s - loss: 0.7883 - accuracy: 0.6487\n",
            "Epoch 20: loss improved from 0.79081 to 0.78838, saving model to saved_models\\important_CNN.0.h5\n",
            "3825/3825 [==============================] - 13s 3ms/step - loss: 0.7884 - accuracy: 0.6488 - val_loss: 0.8420 - val_accuracy: 0.6275\n",
            "Epoch 21/100\n",
            "3821/3825 [============================>.] - ETA: 0s - loss: 0.7829 - accuracy: 0.6509\n",
            "Epoch 21: loss improved from 0.78838 to 0.78280, saving model to saved_models\\important_CNN.0.h5\n",
            "3825/3825 [==============================] - 13s 3ms/step - loss: 0.7828 - accuracy: 0.6509 - val_loss: 0.9731 - val_accuracy: 0.5548\n",
            "Epoch 22/100\n",
            "3815/3825 [============================>.] - ETA: 0s - loss: 0.7805 - accuracy: 0.6534\n",
            "Epoch 22: loss improved from 0.78280 to 0.78045, saving model to saved_models\\important_CNN.0.h5\n",
            "3825/3825 [==============================] - 13s 3ms/step - loss: 0.7805 - accuracy: 0.6534 - val_loss: 0.8684 - val_accuracy: 0.6151\n",
            "Epoch 23/100\n",
            "3823/3825 [============================>.] - ETA: 0s - loss: 0.7795 - accuracy: 0.6546\n",
            "Epoch 23: loss improved from 0.78045 to 0.77946, saving model to saved_models\\important_CNN.0.h5\n",
            "3825/3825 [==============================] - 13s 4ms/step - loss: 0.7795 - accuracy: 0.6547 - val_loss: 0.9086 - val_accuracy: 0.5924\n",
            "Epoch 24/100\n",
            "3820/3825 [============================>.] - ETA: 0s - loss: 0.7751 - accuracy: 0.6568\n",
            "Epoch 24: loss improved from 0.77946 to 0.77512, saving model to saved_models\\important_CNN.0.h5\n",
            "3825/3825 [==============================] - 13s 4ms/step - loss: 0.7751 - accuracy: 0.6567 - val_loss: 0.8920 - val_accuracy: 0.6061\n",
            "Epoch 25/100\n",
            "3820/3825 [============================>.] - ETA: 0s - loss: 0.7747 - accuracy: 0.6576\n",
            "Epoch 25: loss improved from 0.77512 to 0.77467, saving model to saved_models\\important_CNN.0.h5\n",
            "3825/3825 [==============================] - 14s 4ms/step - loss: 0.7747 - accuracy: 0.6576 - val_loss: 0.9453 - val_accuracy: 0.5828\n",
            "Epoch 26/100\n",
            "3811/3825 [============================>.] - ETA: 0s - loss: 0.7720 - accuracy: 0.6583\n",
            "Epoch 26: loss improved from 0.77467 to 0.77191, saving model to saved_models\\important_CNN.0.h5\n",
            "3825/3825 [==============================] - 14s 4ms/step - loss: 0.7719 - accuracy: 0.6583 - val_loss: 0.9146 - val_accuracy: 0.5830\n",
            "Epoch 27/100\n",
            "3815/3825 [============================>.] - ETA: 0s - loss: 0.7713 - accuracy: 0.6576\n",
            "Epoch 27: loss improved from 0.77191 to 0.77142, saving model to saved_models\\important_CNN.0.h5\n",
            "3825/3825 [==============================] - 14s 4ms/step - loss: 0.7714 - accuracy: 0.6576 - val_loss: 0.9132 - val_accuracy: 0.5859\n",
            "Epoch 28/100\n",
            "3819/3825 [============================>.] - ETA: 0s - loss: 0.7710 - accuracy: 0.6580\n",
            "Epoch 28: loss improved from 0.77142 to 0.77103, saving model to saved_models\\important_CNN.0.h5\n",
            "3825/3825 [==============================] - 13s 4ms/step - loss: 0.7710 - accuracy: 0.6580 - val_loss: 0.8870 - val_accuracy: 0.6020\n",
            "Epoch 29/100\n",
            "3822/3825 [============================>.] - ETA: 0s - loss: 0.7685 - accuracy: 0.6620\n",
            "Epoch 29: loss improved from 0.77103 to 0.76833, saving model to saved_models\\important_CNN.0.h5\n",
            "3825/3825 [==============================] - 13s 3ms/step - loss: 0.7683 - accuracy: 0.6621 - val_loss: 0.8788 - val_accuracy: 0.6139\n",
            "Epoch 30/100\n",
            "3825/3825 [==============================] - ETA: 0s - loss: 0.7658 - accuracy: 0.6628\n",
            "Epoch 30: loss improved from 0.76833 to 0.76582, saving model to saved_models\\important_CNN.0.h5\n",
            "3825/3825 [==============================] - 13s 4ms/step - loss: 0.7658 - accuracy: 0.6628 - val_loss: 0.9052 - val_accuracy: 0.5881\n",
            "Epoch 31/100\n",
            "3822/3825 [============================>.] - ETA: 0s - loss: 0.7637 - accuracy: 0.6647\n",
            "Epoch 31: loss improved from 0.76582 to 0.76372, saving model to saved_models\\important_CNN.0.h5\n",
            "3825/3825 [==============================] - 14s 4ms/step - loss: 0.7637 - accuracy: 0.6647 - val_loss: 0.8808 - val_accuracy: 0.6041\n",
            "Epoch 32/100\n",
            "3816/3825 [============================>.] - ETA: 0s - loss: 0.7619 - accuracy: 0.6635\n",
            "Epoch 32: loss improved from 0.76372 to 0.76202, saving model to saved_models\\important_CNN.0.h5\n",
            "3825/3825 [==============================] - 14s 4ms/step - loss: 0.7620 - accuracy: 0.6633 - val_loss: 0.9070 - val_accuracy: 0.5905\n",
            "Epoch 33/100\n",
            "3813/3825 [============================>.] - ETA: 0s - loss: 0.7626 - accuracy: 0.6655\n",
            "Epoch 33: loss did not improve from 0.76202\n",
            "3825/3825 [==============================] - 14s 4ms/step - loss: 0.7625 - accuracy: 0.6656 - val_loss: 0.9316 - val_accuracy: 0.5809\n",
            "Epoch 34/100\n",
            "3823/3825 [============================>.] - ETA: 0s - loss: 0.7592 - accuracy: 0.6656\n",
            "Epoch 34: loss improved from 0.76202 to 0.75911, saving model to saved_models\\important_CNN.0.h5\n",
            "3825/3825 [==============================] - 14s 4ms/step - loss: 0.7591 - accuracy: 0.6657 - val_loss: 0.8898 - val_accuracy: 0.6077\n",
            "Epoch 35/100\n",
            "3820/3825 [============================>.] - ETA: 0s - loss: 0.7582 - accuracy: 0.6661\n",
            "Epoch 35: loss improved from 0.75911 to 0.75822, saving model to saved_models\\important_CNN.0.h5\n",
            "3825/3825 [==============================] - 14s 4ms/step - loss: 0.7582 - accuracy: 0.6661 - val_loss: 0.8910 - val_accuracy: 0.5940\n",
            "Epoch 36/100\n",
            "3814/3825 [============================>.] - ETA: 0s - loss: 0.7571 - accuracy: 0.6659\n",
            "Epoch 36: loss improved from 0.75822 to 0.75721, saving model to saved_models\\important_CNN.0.h5\n",
            "3825/3825 [==============================] - 14s 4ms/step - loss: 0.7572 - accuracy: 0.6659 - val_loss: 0.9245 - val_accuracy: 0.5872\n",
            "Epoch 37/100\n",
            "3823/3825 [============================>.] - ETA: 0s - loss: 0.7567 - accuracy: 0.6684\n",
            "Epoch 37: loss improved from 0.75721 to 0.75670, saving model to saved_models\\important_CNN.0.h5\n",
            "3825/3825 [==============================] - 14s 4ms/step - loss: 0.7567 - accuracy: 0.6684 - val_loss: 0.9070 - val_accuracy: 0.5924\n",
            "Epoch 38/100\n",
            "3823/3825 [============================>.] - ETA: 0s - loss: 0.7547 - accuracy: 0.6682\n",
            "Epoch 38: loss improved from 0.75670 to 0.75475, saving model to saved_models\\important_CNN.0.h5\n",
            "3825/3825 [==============================] - 13s 4ms/step - loss: 0.7547 - accuracy: 0.6682 - val_loss: 0.9095 - val_accuracy: 0.5867\n",
            "Epoch 39/100\n",
            "3811/3825 [============================>.] - ETA: 0s - loss: 0.7552 - accuracy: 0.6677\n",
            "Epoch 39: loss did not improve from 0.75475\n",
            "3825/3825 [==============================] - 14s 4ms/step - loss: 0.7550 - accuracy: 0.6678 - val_loss: 0.9186 - val_accuracy: 0.5879\n",
            "Epoch 40/100\n",
            "3825/3825 [==============================] - ETA: 0s - loss: 0.7555 - accuracy: 0.6667\n",
            "Epoch 40: loss did not improve from 0.75475\n",
            "3825/3825 [==============================] - 14s 4ms/step - loss: 0.7555 - accuracy: 0.6667 - val_loss: 0.9314 - val_accuracy: 0.5821\n",
            "Epoch 41/100\n",
            "3814/3825 [============================>.] - ETA: 0s - loss: 0.7552 - accuracy: 0.6692\n",
            "Epoch 41: loss did not improve from 0.75475\n",
            "3825/3825 [==============================] - 14s 4ms/step - loss: 0.7553 - accuracy: 0.6692 - val_loss: 0.8827 - val_accuracy: 0.6121\n",
            "Epoch 42/100\n",
            "3813/3825 [============================>.] - ETA: 0s - loss: 0.7499 - accuracy: 0.6720\n",
            "Epoch 42: loss improved from 0.75475 to 0.75009, saving model to saved_models\\important_CNN.0.h5\n",
            "3825/3825 [==============================] - 14s 4ms/step - loss: 0.7501 - accuracy: 0.6719 - val_loss: 0.9313 - val_accuracy: 0.5935\n",
            "Epoch 43/100\n",
            "3825/3825 [==============================] - ETA: 0s - loss: 0.7505 - accuracy: 0.6693\n",
            "Epoch 43: loss did not improve from 0.75009\n",
            "3825/3825 [==============================] - 14s 4ms/step - loss: 0.7505 - accuracy: 0.6693 - val_loss: 0.9150 - val_accuracy: 0.5955\n",
            "Epoch 44/100\n",
            "3811/3825 [============================>.] - ETA: 0s - loss: 0.7498 - accuracy: 0.6711\n",
            "Epoch 44: loss improved from 0.75009 to 0.74990, saving model to saved_models\\important_CNN.0.h5\n",
            "3825/3825 [==============================] - 14s 4ms/step - loss: 0.7499 - accuracy: 0.6711 - val_loss: 0.9813 - val_accuracy: 0.5565\n",
            "Epoch 45/100\n",
            "3824/3825 [============================>.] - ETA: 0s - loss: 0.7521 - accuracy: 0.6669\n",
            "Epoch 45: loss did not improve from 0.74990\n",
            "3825/3825 [==============================] - 13s 3ms/step - loss: 0.7521 - accuracy: 0.6669 - val_loss: 0.9967 - val_accuracy: 0.5613\n",
            "Epoch 46/100\n",
            "3825/3825 [==============================] - ETA: 0s - loss: 0.7494 - accuracy: 0.6698\n",
            "Epoch 46: loss improved from 0.74990 to 0.74942, saving model to saved_models\\important_CNN.0.h5\n",
            "3825/3825 [==============================] - 13s 3ms/step - loss: 0.7494 - accuracy: 0.6698 - val_loss: 0.9375 - val_accuracy: 0.5798\n",
            "Epoch 47/100\n",
            "3813/3825 [============================>.] - ETA: 0s - loss: 0.7504 - accuracy: 0.6703\n",
            "Epoch 47: loss did not improve from 0.74942\n",
            "3825/3825 [==============================] - 13s 3ms/step - loss: 0.7503 - accuracy: 0.6704 - val_loss: 0.9100 - val_accuracy: 0.5892\n",
            "Epoch 48/100\n",
            "3825/3825 [==============================] - ETA: 0s - loss: 0.7494 - accuracy: 0.6706\n",
            "Epoch 48: loss improved from 0.74942 to 0.74942, saving model to saved_models\\important_CNN.0.h5\n",
            "3825/3825 [==============================] - 13s 3ms/step - loss: 0.7494 - accuracy: 0.6706 - val_loss: 0.8864 - val_accuracy: 0.6079\n",
            "Epoch 49/100\n",
            "3817/3825 [============================>.] - ETA: 0s - loss: 0.7487 - accuracy: 0.6717\n",
            "Epoch 49: loss improved from 0.74942 to 0.74888, saving model to saved_models\\important_CNN.0.h5\n",
            "3825/3825 [==============================] - 13s 4ms/step - loss: 0.7489 - accuracy: 0.6716 - val_loss: 0.9316 - val_accuracy: 0.5847\n",
            "Epoch 50/100\n",
            "3824/3825 [============================>.] - ETA: 0s - loss: 0.7480 - accuracy: 0.6735\n",
            "Epoch 50: loss improved from 0.74888 to 0.74797, saving model to saved_models\\important_CNN.0.h5\n",
            "3825/3825 [==============================] - 13s 3ms/step - loss: 0.7480 - accuracy: 0.6735 - val_loss: 0.9216 - val_accuracy: 0.5947\n",
            "Epoch 51/100\n",
            "3822/3825 [============================>.] - ETA: 0s - loss: 0.7469 - accuracy: 0.6730\n",
            "Epoch 51: loss improved from 0.74797 to 0.74682, saving model to saved_models\\important_CNN.0.h5\n",
            "3825/3825 [==============================] - 13s 3ms/step - loss: 0.7468 - accuracy: 0.6731 - val_loss: 0.9186 - val_accuracy: 0.5904\n",
            "Epoch 52/100\n",
            "3823/3825 [============================>.] - ETA: 0s - loss: 0.7487 - accuracy: 0.6717\n",
            "Epoch 52: loss did not improve from 0.74682\n",
            "3825/3825 [==============================] - 13s 3ms/step - loss: 0.7488 - accuracy: 0.6716 - val_loss: 0.9080 - val_accuracy: 0.6039\n",
            "Epoch 53/100\n",
            "3815/3825 [============================>.] - ETA: 0s - loss: 0.7450 - accuracy: 0.6724\n",
            "Epoch 53: loss improved from 0.74682 to 0.74500, saving model to saved_models\\important_CNN.0.h5\n",
            "3825/3825 [==============================] - 13s 3ms/step - loss: 0.7450 - accuracy: 0.6724 - val_loss: 0.9634 - val_accuracy: 0.5578\n",
            "Epoch 54/100\n",
            "3825/3825 [==============================] - ETA: 0s - loss: 0.7453 - accuracy: 0.6730\n",
            "Epoch 54: loss did not improve from 0.74500\n",
            "3825/3825 [==============================] - 13s 3ms/step - loss: 0.7453 - accuracy: 0.6730 - val_loss: 0.9782 - val_accuracy: 0.5761\n",
            "Epoch 55/100\n",
            "3823/3825 [============================>.] - ETA: 0s - loss: 0.7446 - accuracy: 0.6712\n",
            "Epoch 55: loss improved from 0.74500 to 0.74459, saving model to saved_models\\important_CNN.0.h5\n",
            "3825/3825 [==============================] - 13s 3ms/step - loss: 0.7446 - accuracy: 0.6712 - val_loss: 0.8751 - val_accuracy: 0.6117\n",
            "Epoch 56/100\n",
            "3819/3825 [============================>.] - ETA: 0s - loss: 0.7451 - accuracy: 0.6736\n",
            "Epoch 56: loss did not improve from 0.74459\n",
            "3825/3825 [==============================] - 13s 3ms/step - loss: 0.7452 - accuracy: 0.6735 - val_loss: 0.9179 - val_accuracy: 0.5854\n",
            "Epoch 57/100\n",
            "3814/3825 [============================>.] - ETA: 0s - loss: 0.7434 - accuracy: 0.6731\n",
            "Epoch 57: loss improved from 0.74459 to 0.74346, saving model to saved_models\\important_CNN.0.h5\n",
            "3825/3825 [==============================] - 13s 4ms/step - loss: 0.7435 - accuracy: 0.6731 - val_loss: 0.8975 - val_accuracy: 0.6079\n",
            "Epoch 58/100\n",
            "3822/3825 [============================>.] - ETA: 0s - loss: 0.7432 - accuracy: 0.6748\n",
            "Epoch 58: loss improved from 0.74346 to 0.74329, saving model to saved_models\\important_CNN.0.h5\n",
            "3825/3825 [==============================] - 13s 3ms/step - loss: 0.7433 - accuracy: 0.6748 - val_loss: 0.8950 - val_accuracy: 0.6152\n",
            "Epoch 59/100\n",
            "3822/3825 [============================>.] - ETA: 0s - loss: 0.7440 - accuracy: 0.6732\n",
            "Epoch 59: loss did not improve from 0.74329\n",
            "3825/3825 [==============================] - 13s 3ms/step - loss: 0.7441 - accuracy: 0.6732 - val_loss: 0.9705 - val_accuracy: 0.5723\n",
            "Epoch 60/100\n",
            "3819/3825 [============================>.] - ETA: 0s - loss: 0.7447 - accuracy: 0.6709\n",
            "Epoch 60: loss did not improve from 0.74329\n",
            "3825/3825 [==============================] - 13s 3ms/step - loss: 0.7448 - accuracy: 0.6708 - val_loss: 0.9269 - val_accuracy: 0.5918\n",
            "Epoch 61/100\n",
            "3813/3825 [============================>.] - ETA: 0s - loss: 0.7446 - accuracy: 0.6724\n",
            "Epoch 61: loss did not improve from 0.74329\n",
            "3825/3825 [==============================] - 13s 3ms/step - loss: 0.7445 - accuracy: 0.6724 - val_loss: 0.9069 - val_accuracy: 0.5976\n",
            "Epoch 62/100\n",
            "3820/3825 [============================>.] - ETA: 0s - loss: 0.7440 - accuracy: 0.6748\n",
            "Epoch 62: loss did not improve from 0.74329\n",
            "3825/3825 [==============================] - 13s 3ms/step - loss: 0.7441 - accuracy: 0.6748 - val_loss: 0.8907 - val_accuracy: 0.6162\n",
            "Epoch 63/100\n",
            "3815/3825 [============================>.] - ETA: 0s - loss: 0.7411 - accuracy: 0.6736\n",
            "Epoch 63: loss improved from 0.74329 to 0.74112, saving model to saved_models\\important_CNN.0.h5\n",
            "3825/3825 [==============================] - 13s 3ms/step - loss: 0.7411 - accuracy: 0.6735 - val_loss: 0.9298 - val_accuracy: 0.5959\n",
            "Epoch 64/100\n",
            "3813/3825 [============================>.] - ETA: 0s - loss: 0.7411 - accuracy: 0.6741\n",
            "Epoch 64: loss improved from 0.74112 to 0.74111, saving model to saved_models\\important_CNN.0.h5\n",
            "3825/3825 [==============================] - 13s 3ms/step - loss: 0.7411 - accuracy: 0.6741 - val_loss: 0.9202 - val_accuracy: 0.5995\n",
            "Epoch 65/100\n",
            "3815/3825 [============================>.] - ETA: 0s - loss: 0.7390 - accuracy: 0.6753\n",
            "Epoch 65: loss improved from 0.74111 to 0.73910, saving model to saved_models\\important_CNN.0.h5\n",
            "3825/3825 [==============================] - 13s 3ms/step - loss: 0.7391 - accuracy: 0.6752 - val_loss: 0.9611 - val_accuracy: 0.5774\n",
            "Epoch 66/100\n",
            "3817/3825 [============================>.] - ETA: 0s - loss: 0.7397 - accuracy: 0.6761\n",
            "Epoch 66: loss did not improve from 0.73910\n",
            "3825/3825 [==============================] - 13s 3ms/step - loss: 0.7396 - accuracy: 0.6761 - val_loss: 0.9077 - val_accuracy: 0.6125\n",
            "Epoch 67/100\n",
            "3811/3825 [============================>.] - ETA: 0s - loss: 0.7402 - accuracy: 0.6756\n",
            "Epoch 67: loss did not improve from 0.73910\n",
            "3825/3825 [==============================] - 13s 3ms/step - loss: 0.7401 - accuracy: 0.6757 - val_loss: 0.9354 - val_accuracy: 0.6060\n",
            "Epoch 68/100\n",
            "3813/3825 [============================>.] - ETA: 0s - loss: 0.7392 - accuracy: 0.6753\n",
            "Epoch 68: loss did not improve from 0.73910\n",
            "3825/3825 [==============================] - 13s 3ms/step - loss: 0.7394 - accuracy: 0.6751 - val_loss: 0.9324 - val_accuracy: 0.5995\n",
            "Epoch 69/100\n",
            "3816/3825 [============================>.] - ETA: 0s - loss: 0.7390 - accuracy: 0.6763\n",
            "Epoch 69: loss did not improve from 0.73910\n",
            "3825/3825 [==============================] - 13s 3ms/step - loss: 0.7393 - accuracy: 0.6761 - val_loss: 0.9149 - val_accuracy: 0.6045\n",
            "Epoch 70/100\n",
            "3816/3825 [============================>.] - ETA: 0s - loss: 0.7380 - accuracy: 0.6765\n",
            "Epoch 70: loss improved from 0.73910 to 0.73806, saving model to saved_models\\important_CNN.0.h5\n",
            "3825/3825 [==============================] - 13s 3ms/step - loss: 0.7381 - accuracy: 0.6765 - val_loss: 0.9515 - val_accuracy: 0.5821\n",
            "Epoch 71/100\n",
            "3821/3825 [============================>.] - ETA: 0s - loss: 0.7387 - accuracy: 0.6735\n",
            "Epoch 71: loss did not improve from 0.73806\n",
            "3825/3825 [==============================] - 13s 3ms/step - loss: 0.7387 - accuracy: 0.6736 - val_loss: 0.9500 - val_accuracy: 0.5999\n",
            "Epoch 72/100\n",
            "3814/3825 [============================>.] - ETA: 0s - loss: 0.7394 - accuracy: 0.6734\n",
            "Epoch 72: loss did not improve from 0.73806\n",
            "3825/3825 [==============================] - 13s 3ms/step - loss: 0.7394 - accuracy: 0.6735 - val_loss: 0.9277 - val_accuracy: 0.5971\n",
            "Epoch 73/100\n",
            "3822/3825 [============================>.] - ETA: 0s - loss: 0.7376 - accuracy: 0.6771\n",
            "Epoch 73: loss improved from 0.73806 to 0.73756, saving model to saved_models\\important_CNN.0.h5\n",
            "3825/3825 [==============================] - 14s 4ms/step - loss: 0.7376 - accuracy: 0.6771 - val_loss: 0.9337 - val_accuracy: 0.5915\n",
            "Epoch 74/100\n",
            "3824/3825 [============================>.] - ETA: 0s - loss: 0.7360 - accuracy: 0.6764\n",
            "Epoch 74: loss improved from 0.73756 to 0.73595, saving model to saved_models\\important_CNN.0.h5\n",
            "3825/3825 [==============================] - 13s 4ms/step - loss: 0.7360 - accuracy: 0.6764 - val_loss: 0.9664 - val_accuracy: 0.5827\n",
            "Epoch 75/100\n",
            "3824/3825 [============================>.] - ETA: 0s - loss: 0.7368 - accuracy: 0.6750\n",
            "Epoch 75: loss did not improve from 0.73595\n",
            "3825/3825 [==============================] - 14s 4ms/step - loss: 0.7368 - accuracy: 0.6750 - val_loss: 0.9713 - val_accuracy: 0.5790\n",
            "Epoch 76/100\n",
            "3815/3825 [============================>.] - ETA: 0s - loss: 0.7358 - accuracy: 0.6755\n",
            "Epoch 76: loss improved from 0.73595 to 0.73572, saving model to saved_models\\important_CNN.0.h5\n",
            "3825/3825 [==============================] - 13s 3ms/step - loss: 0.7357 - accuracy: 0.6756 - val_loss: 0.8951 - val_accuracy: 0.6116\n",
            "Epoch 77/100\n",
            "3812/3825 [============================>.] - ETA: 0s - loss: 0.7339 - accuracy: 0.6779\n",
            "Epoch 77: loss improved from 0.73572 to 0.73396, saving model to saved_models\\important_CNN.0.h5\n",
            "3825/3825 [==============================] - 13s 3ms/step - loss: 0.7340 - accuracy: 0.6780 - val_loss: 0.9671 - val_accuracy: 0.5867\n",
            "Epoch 78/100\n",
            "3811/3825 [============================>.] - ETA: 0s - loss: 0.7344 - accuracy: 0.6784\n",
            "Epoch 78: loss did not improve from 0.73396\n",
            "3825/3825 [==============================] - 13s 3ms/step - loss: 0.7345 - accuracy: 0.6783 - val_loss: 0.9217 - val_accuracy: 0.5989\n",
            "Epoch 79/100\n",
            "3821/3825 [============================>.] - ETA: 0s - loss: 0.7343 - accuracy: 0.6778\n",
            "Epoch 79: loss did not improve from 0.73396\n",
            "3825/3825 [==============================] - 13s 3ms/step - loss: 0.7343 - accuracy: 0.6778 - val_loss: 0.9282 - val_accuracy: 0.5977\n",
            "Epoch 80/100\n",
            "3814/3825 [============================>.] - ETA: 0s - loss: 0.7341 - accuracy: 0.6777\n",
            "Epoch 80: loss did not improve from 0.73396\n",
            "3825/3825 [==============================] - 13s 3ms/step - loss: 0.7341 - accuracy: 0.6778 - val_loss: 0.9262 - val_accuracy: 0.5917\n",
            "Epoch 81/100\n",
            "3821/3825 [============================>.] - ETA: 0s - loss: 0.7349 - accuracy: 0.6760\n",
            "Epoch 81: loss did not improve from 0.73396\n",
            "3825/3825 [==============================] - 13s 3ms/step - loss: 0.7349 - accuracy: 0.6761 - val_loss: 0.9410 - val_accuracy: 0.5881\n",
            "Epoch 82/100\n",
            "3817/3825 [============================>.] - ETA: 0s - loss: 0.7350 - accuracy: 0.6771\n",
            "Epoch 82: loss did not improve from 0.73396\n",
            "3825/3825 [==============================] - 13s 3ms/step - loss: 0.7350 - accuracy: 0.6772 - val_loss: 0.8922 - val_accuracy: 0.6127\n",
            "Epoch 83/100\n",
            "3817/3825 [============================>.] - ETA: 0s - loss: 0.7324 - accuracy: 0.6771\n",
            "Epoch 83: loss improved from 0.73396 to 0.73240, saving model to saved_models\\important_CNN.0.h5\n",
            "3825/3825 [==============================] - 13s 3ms/step - loss: 0.7324 - accuracy: 0.6771 - val_loss: 0.9611 - val_accuracy: 0.5705\n",
            "Epoch 84/100\n",
            "3811/3825 [============================>.] - ETA: 0s - loss: 0.7330 - accuracy: 0.6774\n",
            "Epoch 84: loss did not improve from 0.73240\n",
            "3825/3825 [==============================] - 13s 3ms/step - loss: 0.7331 - accuracy: 0.6774 - val_loss: 0.9347 - val_accuracy: 0.5928\n",
            "Epoch 85/100\n",
            "3815/3825 [============================>.] - ETA: 0s - loss: 0.7334 - accuracy: 0.6777\n",
            "Epoch 85: loss did not improve from 0.73240\n",
            "3825/3825 [==============================] - 13s 3ms/step - loss: 0.7333 - accuracy: 0.6777 - val_loss: 0.9593 - val_accuracy: 0.5713\n",
            "Epoch 86/100\n",
            "3814/3825 [============================>.] - ETA: 0s - loss: 0.7336 - accuracy: 0.6773\n",
            "Epoch 86: loss did not improve from 0.73240\n",
            "3825/3825 [==============================] - 13s 3ms/step - loss: 0.7335 - accuracy: 0.6773 - val_loss: 0.9511 - val_accuracy: 0.5871\n",
            "Epoch 87/100\n",
            "3824/3825 [============================>.] - ETA: 0s - loss: 0.7312 - accuracy: 0.6790\n",
            "Epoch 87: loss improved from 0.73240 to 0.73120, saving model to saved_models\\important_CNN.0.h5\n",
            "3825/3825 [==============================] - 13s 3ms/step - loss: 0.7312 - accuracy: 0.6790 - val_loss: 0.9665 - val_accuracy: 0.5759\n",
            "Epoch 88/100\n",
            "3814/3825 [============================>.] - ETA: 0s - loss: 0.7323 - accuracy: 0.6765\n",
            "Epoch 88: loss did not improve from 0.73120\n",
            "3825/3825 [==============================] - 13s 3ms/step - loss: 0.7322 - accuracy: 0.6766 - val_loss: 0.9446 - val_accuracy: 0.5929\n",
            "Epoch 89/100\n",
            "3822/3825 [============================>.] - ETA: 0s - loss: 0.7320 - accuracy: 0.6788\n",
            "Epoch 89: loss did not improve from 0.73120\n",
            "3825/3825 [==============================] - 14s 4ms/step - loss: 0.7320 - accuracy: 0.6788 - val_loss: 0.9204 - val_accuracy: 0.6051\n",
            "Epoch 90/100\n",
            "3815/3825 [============================>.] - ETA: 0s - loss: 0.7300 - accuracy: 0.6801\n",
            "Epoch 90: loss improved from 0.73120 to 0.72993, saving model to saved_models\\important_CNN.0.h5\n",
            "3825/3825 [==============================] - 14s 4ms/step - loss: 0.7299 - accuracy: 0.6801 - val_loss: 0.9388 - val_accuracy: 0.5857\n",
            "Epoch 91/100\n",
            "3815/3825 [============================>.] - ETA: 0s - loss: 0.7310 - accuracy: 0.6780\n",
            "Epoch 91: loss did not improve from 0.72993\n",
            "3825/3825 [==============================] - 14s 4ms/step - loss: 0.7313 - accuracy: 0.6777 - val_loss: 0.9222 - val_accuracy: 0.6029\n",
            "Epoch 92/100\n",
            "3815/3825 [============================>.] - ETA: 0s - loss: 0.7287 - accuracy: 0.6792\n",
            "Epoch 92: loss improved from 0.72993 to 0.72871, saving model to saved_models\\important_CNN.0.h5\n",
            "3825/3825 [==============================] - 14s 4ms/step - loss: 0.7287 - accuracy: 0.6792 - val_loss: 0.9235 - val_accuracy: 0.5990\n",
            "Epoch 93/100\n",
            "3821/3825 [============================>.] - ETA: 0s - loss: 0.7310 - accuracy: 0.6791\n",
            "Epoch 93: loss did not improve from 0.72871\n",
            "3825/3825 [==============================] - 13s 3ms/step - loss: 0.7309 - accuracy: 0.6791 - val_loss: 0.9042 - val_accuracy: 0.6131\n",
            "Epoch 94/100\n",
            "3814/3825 [============================>.] - ETA: 0s - loss: 0.7320 - accuracy: 0.6769\n",
            "Epoch 94: loss did not improve from 0.72871\n",
            "3825/3825 [==============================] - 13s 3ms/step - loss: 0.7321 - accuracy: 0.6769 - val_loss: 0.9044 - val_accuracy: 0.6080\n",
            "Epoch 95/100\n",
            "3821/3825 [============================>.] - ETA: 0s - loss: 0.7303 - accuracy: 0.6791\n",
            "Epoch 95: loss did not improve from 0.72871\n",
            "3825/3825 [==============================] - 13s 3ms/step - loss: 0.7303 - accuracy: 0.6791 - val_loss: 0.9069 - val_accuracy: 0.6150\n",
            "Epoch 96/100\n",
            "3822/3825 [============================>.] - ETA: 0s - loss: 0.7287 - accuracy: 0.6798\n",
            "Epoch 96: loss improved from 0.72871 to 0.72869, saving model to saved_models\\important_CNN.0.h5\n",
            "3825/3825 [==============================] - 14s 4ms/step - loss: 0.7287 - accuracy: 0.6798 - val_loss: 0.9532 - val_accuracy: 0.5828\n",
            "Epoch 97/100\n",
            "3811/3825 [============================>.] - ETA: 0s - loss: 0.7311 - accuracy: 0.6789\n",
            "Epoch 97: loss did not improve from 0.72869\n",
            "3825/3825 [==============================] - 13s 3ms/step - loss: 0.7310 - accuracy: 0.6790 - val_loss: 0.9078 - val_accuracy: 0.6121\n",
            "Epoch 98/100\n",
            "3817/3825 [============================>.] - ETA: 0s - loss: 0.7295 - accuracy: 0.6795\n",
            "Epoch 98: loss did not improve from 0.72869\n",
            "3825/3825 [==============================] - 13s 3ms/step - loss: 0.7294 - accuracy: 0.6796 - val_loss: 0.9563 - val_accuracy: 0.5885\n",
            "Epoch 99/100\n",
            "3821/3825 [============================>.] - ETA: 0s - loss: 0.7303 - accuracy: 0.6775\n",
            "Epoch 99: loss did not improve from 0.72869\n",
            "3825/3825 [==============================] - 13s 3ms/step - loss: 0.7302 - accuracy: 0.6775 - val_loss: 0.9198 - val_accuracy: 0.6037\n",
            "Epoch 100/100\n",
            "3811/3825 [============================>.] - ETA: 0s - loss: 0.7295 - accuracy: 0.6793\n",
            "Epoch 100: loss did not improve from 0.72869\n",
            "3825/3825 [==============================] - 13s 3ms/step - loss: 0.7294 - accuracy: 0.6795 - val_loss: 0.9580 - val_accuracy: 0.5775\n"
          ]
        }
      ],
      "source": [
        "checkpoint = ModelCheckpoint(model_fname, monitor='loss', verbose=1, \n",
        "  save_best_only=True)\n",
        "callbacks_list = [checkpoint]\n",
        "\n",
        "# fit the model\n",
        "history = model.fit(X_trn, y_trn, epochs=100, batch_size=20,\n",
        "  validation_split=0.15, callbacks=callbacks_list)"
      ]
    },
    {
      "cell_type": "code",
      "execution_count": 80,
      "metadata": {
        "colab": {
          "base_uri": "https://localhost:8080/",
          "height": 775
        },
        "id": "awU2sdo5qJJp",
        "outputId": "342b2c6c-65d7-4eb9-d16c-e3bc65cc34ee"
      },
      "outputs": [
        {
          "data": {
            "image/png": "[encoded data removed]",
            "text/plain": [
              "<Figure size 750x750 with 2 Axes>"
            ]
          },
          "metadata": {
            "needs_background": "light"
          },
          "output_type": "display_data"
        }
      ],
      "source": [
        "fig = plt.figure(figsize=(6,6))\n",
        "plt.subplot(2,1,1)\n",
        "plt.plot(history.history['accuracy'])\n",
        "plt.plot(history.history['val_accuracy'])\n",
        "plt.title('Model Accuracy')\n",
        "plt.ylabel('Accuracy')\n",
        "plt.xlabel('Epoch')\n",
        "plt.legend(['trn', 'val'], loc='lower right')\n",
        "\n",
        "plt.subplot(2,1,2)\n",
        "plt.plot(history.history['loss'])\n",
        "plt.plot(history.history['val_loss'])\n",
        "plt.title('Model Loss')\n",
        "plt.ylabel('Loss')\n",
        "plt.xlabel('Epoch')\n",
        "plt.legend(['trn', 'val'], loc='upper right')\n",
        "plt.tight_layout()\n"
      ]
    },
    {
      "cell_type": "code",
      "execution_count": 81,
      "metadata": {},
      "outputs": [],
      "source": [
        "def test_img_parse(img, patches):\n",
        "    num_rows = img.shape[0]\n",
        "    num_cols = img.shape[1]\n",
        "    \n",
        "    patch = np.zeros((PATCH_SIZE, PATCH_SIZE, 3))\n",
        "    position_row = np.zeros((PATCH_SIZE, PATCH_SIZE, 1))\n",
        "    position_col = np.zeros((PATCH_SIZE, PATCH_SIZE, 1))\n",
        "    \n",
        "    for r0 in range(0, num_rows-1, PATCH_SIZE):\n",
        "        for c0 in range(0, num_cols-1, PATCH_SIZE):\n",
        "        \n",
        "           \n",
        "            for r in range(PATCH_SIZE):\n",
        "                for c in range(PATCH_SIZE):\n",
        "                    assert(r0 + r < num_rows)\n",
        "                    assert(c0 + c < num_cols)\n",
        "\n",
        "                    patch[r, c] =img[r0+r, c0+c]\n",
        "                    position_row[r, c] = r0 / (num_rows-1)\n",
        "                    position_col[r, c] = c0 / (num_cols-1)\n",
        "            \n",
        "            \n",
        "            norm_patch = patch.copy()/255.0\n",
        "      \n",
        "            five_d_patch = np.concatenate((norm_patch, position_row), axis=2)\n",
        "            five_d_patch = np.concatenate((five_d_patch, position_col), axis=2)\n",
        "            patches.append(five_d_patch)\n",
        "    \n"
      ]
    },
    {
      "cell_type": "code",
      "execution_count": 82,
      "metadata": {},
      "outputs": [],
      "source": [
        "\n",
        "def recover_imp (test_imp_matrics, imp_pred_matrics):\n",
        "    row = imp_pred_matrics.shape[0]\n",
        "    col = imp_pred_matrics.shape[1]\n",
        "    for r0 in range(0, row-1, PATCH_SIZE):\n",
        "        for c0 in range(0, col-1, PATCH_SIZE):\n",
        "      \n",
        "            for r in range(PATCH_SIZE):\n",
        "                for c in range(PATCH_SIZE):\n",
        "                    imp_pred_matrics[r+r0,c+c0] = test_imp_matrics[int(r0/PATCH_SIZE),int(c0/PATCH_SIZE)]"
      ]
    },
    {
      "cell_type": "code",
      "execution_count": 83,
      "metadata": {
        "colab": {
          "base_uri": "https://localhost:8080/",
          "height": 321
        },
        "id": "FH1NELUjrJQo",
        "outputId": "cebb3cba-b0d5-46e6-e601-a82b28fe93fa"
      },
      "outputs": [
        {
          "name": "stderr",
          "output_type": "stream",
          "text": [
            "  0%|          | 0/150 [00:00<?, ?it/s]"
          ]
        },
        {
          "name": "stdout",
          "output_type": "stream",
          "text": [
            "19/19 [==============================] - 0s 3ms/step\n"
          ]
        },
        {
          "name": "stderr",
          "output_type": "stream",
          "text": [
            "  1%|          | 1/150 [00:01<04:39,  1.87s/it]"
          ]
        },
        {
          "name": "stdout",
          "output_type": "stream",
          "text": [
            "19/19 [==============================] - 0s 1ms/step\n"
          ]
        },
        {
          "name": "stderr",
          "output_type": "stream",
          "text": [
            "  1%|▏         | 2/150 [00:03<04:20,  1.76s/it]"
          ]
        },
        {
          "name": "stdout",
          "output_type": "stream",
          "text": [
            "19/19 [==============================] - 0s 1ms/step\n"
          ]
        },
        {
          "name": "stderr",
          "output_type": "stream",
          "text": [
            "  2%|▏         | 3/150 [00:06<05:18,  2.16s/it]"
          ]
        },
        {
          "name": "stdout",
          "output_type": "stream",
          "text": [
            "19/19 [==============================] - 0s 1ms/step\n"
          ]
        },
        {
          "name": "stderr",
          "output_type": "stream",
          "text": [
            "  3%|▎         | 4/150 [00:08<05:16,  2.17s/it]"
          ]
        },
        {
          "name": "stdout",
          "output_type": "stream",
          "text": [
            "19/19 [==============================] - 0s 1ms/step\n"
          ]
        },
        {
          "name": "stderr",
          "output_type": "stream",
          "text": [
            "  3%|▎         | 5/150 [00:10<05:05,  2.11s/it]"
          ]
        },
        {
          "name": "stdout",
          "output_type": "stream",
          "text": [
            "19/19 [==============================] - 0s 1ms/step\n"
          ]
        },
        {
          "name": "stderr",
          "output_type": "stream",
          "text": [
            "  4%|▍         | 6/150 [00:12<04:42,  1.96s/it]"
          ]
        },
        {
          "name": "stdout",
          "output_type": "stream",
          "text": [
            "19/19 [==============================] - 0s 1ms/step\n"
          ]
        },
        {
          "name": "stderr",
          "output_type": "stream",
          "text": [
            "  5%|▍         | 7/150 [00:13<04:04,  1.71s/it]"
          ]
        },
        {
          "name": "stdout",
          "output_type": "stream",
          "text": [
            "19/19 [==============================] - 0s 1ms/step\n"
          ]
        },
        {
          "name": "stderr",
          "output_type": "stream",
          "text": [
            "  5%|▌         | 8/150 [00:14<03:48,  1.61s/it]"
          ]
        },
        {
          "name": "stdout",
          "output_type": "stream",
          "text": [
            "19/19 [==============================] - 0s 1ms/step\n"
          ]
        },
        {
          "name": "stderr",
          "output_type": "stream",
          "text": [
            "  6%|▌         | 9/150 [00:17<04:38,  1.98s/it]"
          ]
        },
        {
          "name": "stdout",
          "output_type": "stream",
          "text": [
            "19/19 [==============================] - 0s 1ms/step\n"
          ]
        },
        {
          "name": "stderr",
          "output_type": "stream",
          "text": [
            "  7%|▋         | 10/150 [00:18<04:11,  1.79s/it]"
          ]
        },
        {
          "name": "stdout",
          "output_type": "stream",
          "text": [
            "19/19 [==============================] - 0s 1ms/step\n"
          ]
        },
        {
          "name": "stderr",
          "output_type": "stream",
          "text": [
            "  7%|▋         | 11/150 [00:20<04:08,  1.79s/it]"
          ]
        },
        {
          "name": "stdout",
          "output_type": "stream",
          "text": [
            "19/19 [==============================] - 0s 1ms/step\n"
          ]
        },
        {
          "name": "stderr",
          "output_type": "stream",
          "text": [
            "  8%|▊         | 12/150 [00:22<03:58,  1.73s/it]"
          ]
        },
        {
          "name": "stdout",
          "output_type": "stream",
          "text": [
            "19/19 [==============================] - 0s 1ms/step\n"
          ]
        },
        {
          "name": "stderr",
          "output_type": "stream",
          "text": [
            "  9%|▊         | 13/150 [00:23<03:43,  1.63s/it]"
          ]
        },
        {
          "name": "stdout",
          "output_type": "stream",
          "text": [
            "19/19 [==============================] - 0s 1ms/step\n"
          ]
        },
        {
          "name": "stderr",
          "output_type": "stream",
          "text": [
            "  9%|▉         | 14/150 [00:25<03:37,  1.60s/it]"
          ]
        },
        {
          "name": "stdout",
          "output_type": "stream",
          "text": [
            "19/19 [==============================] - 0s 1ms/step\n"
          ]
        },
        {
          "name": "stderr",
          "output_type": "stream",
          "text": [
            " 10%|█         | 15/150 [00:26<03:19,  1.48s/it]"
          ]
        },
        {
          "name": "stdout",
          "output_type": "stream",
          "text": [
            "19/19 [==============================] - 0s 1ms/step\n"
          ]
        },
        {
          "name": "stderr",
          "output_type": "stream",
          "text": [
            " 11%|█         | 16/150 [00:27<03:13,  1.45s/it]"
          ]
        },
        {
          "name": "stdout",
          "output_type": "stream",
          "text": [
            "19/19 [==============================] - 0s 1ms/step\n"
          ]
        },
        {
          "name": "stderr",
          "output_type": "stream",
          "text": [
            " 11%|█▏        | 17/150 [00:29<03:25,  1.55s/it]"
          ]
        },
        {
          "name": "stdout",
          "output_type": "stream",
          "text": [
            "19/19 [==============================] - 0s 1ms/step\n"
          ]
        },
        {
          "name": "stderr",
          "output_type": "stream",
          "text": [
            " 12%|█▏        | 18/150 [00:30<03:17,  1.50s/it]"
          ]
        },
        {
          "name": "stdout",
          "output_type": "stream",
          "text": [
            "19/19 [==============================] - 0s 1ms/step\n"
          ]
        },
        {
          "name": "stderr",
          "output_type": "stream",
          "text": [
            " 13%|█▎        | 19/150 [00:32<03:12,  1.47s/it]"
          ]
        },
        {
          "name": "stdout",
          "output_type": "stream",
          "text": [
            "19/19 [==============================] - 0s 1ms/step\n"
          ]
        },
        {
          "name": "stderr",
          "output_type": "stream",
          "text": [
            " 13%|█▎        | 20/150 [00:33<03:07,  1.44s/it]"
          ]
        },
        {
          "name": "stdout",
          "output_type": "stream",
          "text": [
            "19/19 [==============================] - 0s 1ms/step\n"
          ]
        },
        {
          "name": "stderr",
          "output_type": "stream",
          "text": [
            " 14%|█▍        | 21/150 [00:34<03:03,  1.42s/it]"
          ]
        },
        {
          "name": "stdout",
          "output_type": "stream",
          "text": [
            "19/19 [==============================] - 0s 1ms/step\n"
          ]
        },
        {
          "name": "stderr",
          "output_type": "stream",
          "text": [
            " 15%|█▍        | 22/150 [00:36<03:06,  1.46s/it]"
          ]
        },
        {
          "name": "stdout",
          "output_type": "stream",
          "text": [
            "19/19 [==============================] - 0s 1ms/step\n"
          ]
        },
        {
          "name": "stderr",
          "output_type": "stream",
          "text": [
            " 15%|█▌        | 23/150 [00:37<03:02,  1.44s/it]"
          ]
        },
        {
          "name": "stdout",
          "output_type": "stream",
          "text": [
            "19/19 [==============================] - 0s 1ms/step\n"
          ]
        },
        {
          "name": "stderr",
          "output_type": "stream",
          "text": [
            " 16%|█▌        | 24/150 [00:40<03:45,  1.79s/it]"
          ]
        },
        {
          "name": "stdout",
          "output_type": "stream",
          "text": [
            "19/19 [==============================] - 0s 1ms/step\n"
          ]
        },
        {
          "name": "stderr",
          "output_type": "stream",
          "text": [
            " 17%|█▋        | 25/150 [00:41<03:28,  1.67s/it]"
          ]
        },
        {
          "name": "stdout",
          "output_type": "stream",
          "text": [
            "19/19 [==============================] - 0s 1ms/step\n"
          ]
        },
        {
          "name": "stderr",
          "output_type": "stream",
          "text": [
            " 17%|█▋        | 26/150 [00:43<03:08,  1.52s/it]"
          ]
        },
        {
          "name": "stdout",
          "output_type": "stream",
          "text": [
            "19/19 [==============================] - 0s 1ms/step\n"
          ]
        },
        {
          "name": "stderr",
          "output_type": "stream",
          "text": [
            " 18%|█▊        | 27/150 [00:45<03:27,  1.69s/it]"
          ]
        },
        {
          "name": "stdout",
          "output_type": "stream",
          "text": [
            "19/19 [==============================] - 0s 1ms/step\n"
          ]
        },
        {
          "name": "stderr",
          "output_type": "stream",
          "text": [
            " 19%|█▊        | 28/150 [00:46<03:07,  1.54s/it]"
          ]
        },
        {
          "name": "stdout",
          "output_type": "stream",
          "text": [
            "19/19 [==============================] - 0s 1ms/step\n"
          ]
        },
        {
          "name": "stderr",
          "output_type": "stream",
          "text": [
            " 19%|█▉        | 29/150 [00:48<03:14,  1.60s/it]"
          ]
        },
        {
          "name": "stdout",
          "output_type": "stream",
          "text": [
            "19/19 [==============================] - 0s 1ms/step\n"
          ]
        },
        {
          "name": "stderr",
          "output_type": "stream",
          "text": [
            " 20%|██        | 30/150 [00:50<03:37,  1.81s/it]"
          ]
        },
        {
          "name": "stdout",
          "output_type": "stream",
          "text": [
            "19/19 [==============================] - 0s 1ms/step\n"
          ]
        },
        {
          "name": "stderr",
          "output_type": "stream",
          "text": [
            " 21%|██        | 31/150 [00:51<03:20,  1.68s/it]"
          ]
        },
        {
          "name": "stdout",
          "output_type": "stream",
          "text": [
            "19/19 [==============================] - 0s 1ms/step\n"
          ]
        },
        {
          "name": "stderr",
          "output_type": "stream",
          "text": [
            " 21%|██▏       | 32/150 [00:53<03:24,  1.73s/it]"
          ]
        },
        {
          "name": "stdout",
          "output_type": "stream",
          "text": [
            "19/19 [==============================] - 0s 1ms/step\n"
          ]
        },
        {
          "name": "stderr",
          "output_type": "stream",
          "text": [
            " 22%|██▏       | 33/150 [00:55<03:29,  1.79s/it]"
          ]
        },
        {
          "name": "stdout",
          "output_type": "stream",
          "text": [
            "19/19 [==============================] - 0s 1ms/step\n"
          ]
        },
        {
          "name": "stderr",
          "output_type": "stream",
          "text": [
            " 23%|██▎       | 34/150 [00:57<03:32,  1.83s/it]"
          ]
        },
        {
          "name": "stdout",
          "output_type": "stream",
          "text": [
            "19/19 [==============================] - 0s 1ms/step\n"
          ]
        },
        {
          "name": "stderr",
          "output_type": "stream",
          "text": [
            " 23%|██▎       | 35/150 [00:59<03:26,  1.79s/it]"
          ]
        },
        {
          "name": "stdout",
          "output_type": "stream",
          "text": [
            "19/19 [==============================] - 0s 1ms/step\n"
          ]
        },
        {
          "name": "stderr",
          "output_type": "stream",
          "text": [
            " 24%|██▍       | 36/150 [01:00<03:11,  1.68s/it]"
          ]
        },
        {
          "name": "stdout",
          "output_type": "stream",
          "text": [
            "19/19 [==============================] - 0s 1ms/step\n"
          ]
        },
        {
          "name": "stderr",
          "output_type": "stream",
          "text": [
            " 25%|██▍       | 37/150 [01:02<03:00,  1.59s/it]"
          ]
        },
        {
          "name": "stdout",
          "output_type": "stream",
          "text": [
            "19/19 [==============================] - 0s 1ms/step\n"
          ]
        },
        {
          "name": "stderr",
          "output_type": "stream",
          "text": [
            " 25%|██▌       | 38/150 [01:03<02:57,  1.59s/it]"
          ]
        },
        {
          "name": "stdout",
          "output_type": "stream",
          "text": [
            "19/19 [==============================] - 0s 1ms/step\n"
          ]
        },
        {
          "name": "stderr",
          "output_type": "stream",
          "text": [
            " 26%|██▌       | 39/150 [01:05<02:56,  1.59s/it]"
          ]
        },
        {
          "name": "stdout",
          "output_type": "stream",
          "text": [
            "19/19 [==============================] - 0s 1ms/step\n"
          ]
        },
        {
          "name": "stderr",
          "output_type": "stream",
          "text": [
            " 27%|██▋       | 40/150 [01:06<02:48,  1.53s/it]"
          ]
        },
        {
          "name": "stdout",
          "output_type": "stream",
          "text": [
            "19/19 [==============================] - 0s 1ms/step\n"
          ]
        },
        {
          "name": "stderr",
          "output_type": "stream",
          "text": [
            " 27%|██▋       | 41/150 [01:09<03:21,  1.85s/it]"
          ]
        },
        {
          "name": "stdout",
          "output_type": "stream",
          "text": [
            "19/19 [==============================] - 0s 1ms/step\n"
          ]
        },
        {
          "name": "stderr",
          "output_type": "stream",
          "text": [
            " 28%|██▊       | 42/150 [01:10<03:04,  1.70s/it]"
          ]
        },
        {
          "name": "stdout",
          "output_type": "stream",
          "text": [
            "19/19 [==============================] - 0s 1ms/step\n"
          ]
        },
        {
          "name": "stderr",
          "output_type": "stream",
          "text": [
            " 29%|██▊       | 43/150 [01:11<02:52,  1.61s/it]"
          ]
        },
        {
          "name": "stdout",
          "output_type": "stream",
          "text": [
            "19/19 [==============================] - 0s 1ms/step\n"
          ]
        },
        {
          "name": "stderr",
          "output_type": "stream",
          "text": [
            " 29%|██▉       | 44/150 [01:13<02:38,  1.50s/it]"
          ]
        },
        {
          "name": "stdout",
          "output_type": "stream",
          "text": [
            "19/19 [==============================] - 0s 1ms/step\n"
          ]
        },
        {
          "name": "stderr",
          "output_type": "stream",
          "text": [
            " 30%|███       | 45/150 [01:14<02:43,  1.55s/it]"
          ]
        },
        {
          "name": "stdout",
          "output_type": "stream",
          "text": [
            "19/19 [==============================] - 0s 1ms/step\n"
          ]
        },
        {
          "name": "stderr",
          "output_type": "stream",
          "text": [
            " 31%|███       | 46/150 [01:16<02:30,  1.45s/it]"
          ]
        },
        {
          "name": "stdout",
          "output_type": "stream",
          "text": [
            "19/19 [==============================] - 0s 1ms/step\n"
          ]
        },
        {
          "name": "stderr",
          "output_type": "stream",
          "text": [
            " 31%|███▏      | 47/150 [01:17<02:43,  1.59s/it]"
          ]
        },
        {
          "name": "stdout",
          "output_type": "stream",
          "text": [
            "19/19 [==============================] - 0s 1ms/step\n"
          ]
        },
        {
          "name": "stderr",
          "output_type": "stream",
          "text": [
            " 32%|███▏      | 48/150 [01:19<02:41,  1.58s/it]"
          ]
        },
        {
          "name": "stdout",
          "output_type": "stream",
          "text": [
            "19/19 [==============================] - 0s 1ms/step\n"
          ]
        },
        {
          "name": "stderr",
          "output_type": "stream",
          "text": [
            " 33%|███▎      | 49/150 [01:21<02:44,  1.63s/it]"
          ]
        },
        {
          "name": "stdout",
          "output_type": "stream",
          "text": [
            "19/19 [==============================] - 0s 1ms/step\n"
          ]
        },
        {
          "name": "stderr",
          "output_type": "stream",
          "text": [
            " 33%|███▎      | 50/150 [01:23<02:46,  1.67s/it]"
          ]
        },
        {
          "name": "stdout",
          "output_type": "stream",
          "text": [
            "19/19 [==============================] - 0s 1ms/step\n"
          ]
        },
        {
          "name": "stderr",
          "output_type": "stream",
          "text": [
            " 34%|███▍      | 51/150 [01:24<02:42,  1.64s/it]"
          ]
        },
        {
          "name": "stdout",
          "output_type": "stream",
          "text": [
            "19/19 [==============================] - 0s 1ms/step\n"
          ]
        },
        {
          "name": "stderr",
          "output_type": "stream",
          "text": [
            " 35%|███▍      | 52/150 [01:26<02:38,  1.61s/it]"
          ]
        },
        {
          "name": "stdout",
          "output_type": "stream",
          "text": [
            "19/19 [==============================] - 0s 1ms/step\n"
          ]
        },
        {
          "name": "stderr",
          "output_type": "stream",
          "text": [
            " 35%|███▌      | 53/150 [01:27<02:35,  1.60s/it]"
          ]
        },
        {
          "name": "stdout",
          "output_type": "stream",
          "text": [
            "19/19 [==============================] - 0s 1ms/step\n"
          ]
        },
        {
          "name": "stderr",
          "output_type": "stream",
          "text": [
            " 36%|███▌      | 54/150 [01:28<02:21,  1.47s/it]"
          ]
        },
        {
          "name": "stdout",
          "output_type": "stream",
          "text": [
            "19/19 [==============================] - 0s 1ms/step\n"
          ]
        },
        {
          "name": "stderr",
          "output_type": "stream",
          "text": [
            " 37%|███▋      | 55/150 [01:30<02:12,  1.39s/it]"
          ]
        },
        {
          "name": "stdout",
          "output_type": "stream",
          "text": [
            "19/19 [==============================] - 0s 1ms/step\n"
          ]
        },
        {
          "name": "stderr",
          "output_type": "stream",
          "text": [
            " 37%|███▋      | 56/150 [01:31<02:15,  1.44s/it]"
          ]
        },
        {
          "name": "stdout",
          "output_type": "stream",
          "text": [
            "19/19 [==============================] - 0s 1ms/step\n"
          ]
        },
        {
          "name": "stderr",
          "output_type": "stream",
          "text": [
            " 38%|███▊      | 57/150 [01:33<02:12,  1.42s/it]"
          ]
        },
        {
          "name": "stdout",
          "output_type": "stream",
          "text": [
            "19/19 [==============================] - 0s 1ms/step\n"
          ]
        },
        {
          "name": "stderr",
          "output_type": "stream",
          "text": [
            " 39%|███▊      | 58/150 [01:35<02:30,  1.63s/it]"
          ]
        },
        {
          "name": "stdout",
          "output_type": "stream",
          "text": [
            "19/19 [==============================] - 0s 1ms/step\n"
          ]
        },
        {
          "name": "stderr",
          "output_type": "stream",
          "text": [
            " 39%|███▉      | 59/150 [01:36<02:22,  1.56s/it]"
          ]
        },
        {
          "name": "stdout",
          "output_type": "stream",
          "text": [
            "19/19 [==============================] - 0s 1ms/step\n"
          ]
        },
        {
          "name": "stderr",
          "output_type": "stream",
          "text": [
            " 40%|████      | 60/150 [01:38<02:31,  1.68s/it]"
          ]
        },
        {
          "name": "stdout",
          "output_type": "stream",
          "text": [
            "19/19 [==============================] - 0s 1ms/step\n"
          ]
        },
        {
          "name": "stderr",
          "output_type": "stream",
          "text": [
            " 41%|████      | 61/150 [01:40<02:37,  1.77s/it]"
          ]
        },
        {
          "name": "stdout",
          "output_type": "stream",
          "text": [
            "19/19 [==============================] - 0s 1ms/step\n"
          ]
        },
        {
          "name": "stderr",
          "output_type": "stream",
          "text": [
            " 41%|████▏     | 62/150 [01:42<02:41,  1.84s/it]"
          ]
        },
        {
          "name": "stdout",
          "output_type": "stream",
          "text": [
            "19/19 [==============================] - 0s 1ms/step\n"
          ]
        },
        {
          "name": "stderr",
          "output_type": "stream",
          "text": [
            " 42%|████▏     | 63/150 [01:44<02:49,  1.95s/it]"
          ]
        },
        {
          "name": "stdout",
          "output_type": "stream",
          "text": [
            "19/19 [==============================] - 0s 1ms/step\n"
          ]
        },
        {
          "name": "stderr",
          "output_type": "stream",
          "text": [
            " 43%|████▎     | 64/150 [01:46<02:48,  1.95s/it]"
          ]
        },
        {
          "name": "stdout",
          "output_type": "stream",
          "text": [
            "19/19 [==============================] - 0s 1ms/step\n"
          ]
        },
        {
          "name": "stderr",
          "output_type": "stream",
          "text": [
            " 43%|████▎     | 65/150 [01:48<02:50,  2.01s/it]"
          ]
        },
        {
          "name": "stdout",
          "output_type": "stream",
          "text": [
            "19/19 [==============================] - 0s 1ms/step\n"
          ]
        },
        {
          "name": "stderr",
          "output_type": "stream",
          "text": [
            " 44%|████▍     | 66/150 [01:50<02:38,  1.88s/it]"
          ]
        },
        {
          "name": "stdout",
          "output_type": "stream",
          "text": [
            "19/19 [==============================] - 0s 1ms/step\n"
          ]
        },
        {
          "name": "stderr",
          "output_type": "stream",
          "text": [
            " 45%|████▍     | 67/150 [01:52<02:36,  1.88s/it]"
          ]
        },
        {
          "name": "stdout",
          "output_type": "stream",
          "text": [
            "19/19 [==============================] - 0s 1ms/step\n"
          ]
        },
        {
          "name": "stderr",
          "output_type": "stream",
          "text": [
            " 45%|████▌     | 68/150 [01:54<02:38,  1.93s/it]"
          ]
        },
        {
          "name": "stdout",
          "output_type": "stream",
          "text": [
            "19/19 [==============================] - 0s 1ms/step\n"
          ]
        },
        {
          "name": "stderr",
          "output_type": "stream",
          "text": [
            " 46%|████▌     | 69/150 [01:55<02:27,  1.82s/it]"
          ]
        },
        {
          "name": "stdout",
          "output_type": "stream",
          "text": [
            "19/19 [==============================] - 0s 1ms/step\n"
          ]
        },
        {
          "name": "stderr",
          "output_type": "stream",
          "text": [
            " 47%|████▋     | 70/150 [01:57<02:19,  1.75s/it]"
          ]
        },
        {
          "name": "stdout",
          "output_type": "stream",
          "text": [
            "19/19 [==============================] - 0s 1ms/step\n"
          ]
        },
        {
          "name": "stderr",
          "output_type": "stream",
          "text": [
            " 47%|████▋     | 71/150 [01:59<02:13,  1.69s/it]"
          ]
        },
        {
          "name": "stdout",
          "output_type": "stream",
          "text": [
            "19/19 [==============================] - 0s 1ms/step\n"
          ]
        },
        {
          "name": "stderr",
          "output_type": "stream",
          "text": [
            " 48%|████▊     | 72/150 [02:00<02:08,  1.65s/it]"
          ]
        },
        {
          "name": "stdout",
          "output_type": "stream",
          "text": [
            "19/19 [==============================] - 0s 1ms/step\n"
          ]
        },
        {
          "name": "stderr",
          "output_type": "stream",
          "text": [
            " 49%|████▊     | 73/150 [02:01<01:56,  1.51s/it]"
          ]
        },
        {
          "name": "stdout",
          "output_type": "stream",
          "text": [
            "19/19 [==============================] - 0s 1ms/step\n"
          ]
        },
        {
          "name": "stderr",
          "output_type": "stream",
          "text": [
            " 49%|████▉     | 74/150 [02:03<01:56,  1.53s/it]"
          ]
        },
        {
          "name": "stdout",
          "output_type": "stream",
          "text": [
            "19/19 [==============================] - 0s 1ms/step\n"
          ]
        },
        {
          "name": "stderr",
          "output_type": "stream",
          "text": [
            " 50%|█████     | 75/150 [02:04<01:55,  1.55s/it]"
          ]
        },
        {
          "name": "stdout",
          "output_type": "stream",
          "text": [
            "19/19 [==============================] - 0s 1ms/step\n"
          ]
        },
        {
          "name": "stderr",
          "output_type": "stream",
          "text": [
            " 51%|█████     | 76/150 [02:07<02:12,  1.79s/it]"
          ]
        },
        {
          "name": "stdout",
          "output_type": "stream",
          "text": [
            "19/19 [==============================] - 0s 1ms/step\n"
          ]
        },
        {
          "name": "stderr",
          "output_type": "stream",
          "text": [
            " 51%|█████▏    | 77/150 [02:09<02:13,  1.83s/it]"
          ]
        },
        {
          "name": "stdout",
          "output_type": "stream",
          "text": [
            "19/19 [==============================] - 0s 1ms/step\n"
          ]
        },
        {
          "name": "stderr",
          "output_type": "stream",
          "text": [
            " 52%|█████▏    | 78/150 [02:10<02:02,  1.70s/it]"
          ]
        },
        {
          "name": "stdout",
          "output_type": "stream",
          "text": [
            "19/19 [==============================] - 0s 1ms/step\n"
          ]
        },
        {
          "name": "stderr",
          "output_type": "stream",
          "text": [
            " 53%|█████▎    | 79/150 [02:11<01:53,  1.60s/it]"
          ]
        },
        {
          "name": "stdout",
          "output_type": "stream",
          "text": [
            "19/19 [==============================] - 0s 1ms/step\n"
          ]
        },
        {
          "name": "stderr",
          "output_type": "stream",
          "text": [
            " 53%|█████▎    | 80/150 [02:13<01:43,  1.48s/it]"
          ]
        },
        {
          "name": "stdout",
          "output_type": "stream",
          "text": [
            "19/19 [==============================] - 0s 1ms/step\n"
          ]
        },
        {
          "name": "stderr",
          "output_type": "stream",
          "text": [
            " 54%|█████▍    | 81/150 [02:15<01:51,  1.62s/it]"
          ]
        },
        {
          "name": "stdout",
          "output_type": "stream",
          "text": [
            "19/19 [==============================] - 0s 1ms/step\n"
          ]
        },
        {
          "name": "stderr",
          "output_type": "stream",
          "text": [
            " 55%|█████▍    | 82/150 [02:16<01:55,  1.69s/it]"
          ]
        },
        {
          "name": "stdout",
          "output_type": "stream",
          "text": [
            "19/19 [==============================] - 0s 1ms/step\n"
          ]
        },
        {
          "name": "stderr",
          "output_type": "stream",
          "text": [
            " 55%|█████▌    | 83/150 [02:18<01:47,  1.60s/it]"
          ]
        },
        {
          "name": "stdout",
          "output_type": "stream",
          "text": [
            "19/19 [==============================] - 0s 1ms/step\n"
          ]
        },
        {
          "name": "stderr",
          "output_type": "stream",
          "text": [
            " 56%|█████▌    | 84/150 [02:20<01:47,  1.63s/it]"
          ]
        },
        {
          "name": "stdout",
          "output_type": "stream",
          "text": [
            "19/19 [==============================] - 0s 1ms/step\n"
          ]
        },
        {
          "name": "stderr",
          "output_type": "stream",
          "text": [
            " 57%|█████▋    | 85/150 [02:21<01:52,  1.73s/it]"
          ]
        },
        {
          "name": "stdout",
          "output_type": "stream",
          "text": [
            "19/19 [==============================] - 0s 1ms/step\n"
          ]
        },
        {
          "name": "stderr",
          "output_type": "stream",
          "text": [
            " 57%|█████▋    | 86/150 [02:23<01:51,  1.74s/it]"
          ]
        },
        {
          "name": "stdout",
          "output_type": "stream",
          "text": [
            "19/19 [==============================] - 0s 1ms/step\n"
          ]
        },
        {
          "name": "stderr",
          "output_type": "stream",
          "text": [
            " 58%|█████▊    | 87/150 [02:25<01:42,  1.63s/it]"
          ]
        },
        {
          "name": "stdout",
          "output_type": "stream",
          "text": [
            "19/19 [==============================] - 0s 1ms/step\n"
          ]
        },
        {
          "name": "stderr",
          "output_type": "stream",
          "text": [
            " 59%|█████▊    | 88/150 [02:26<01:36,  1.55s/it]"
          ]
        },
        {
          "name": "stdout",
          "output_type": "stream",
          "text": [
            "19/19 [==============================] - 0s 1ms/step\n"
          ]
        },
        {
          "name": "stderr",
          "output_type": "stream",
          "text": [
            " 59%|█████▉    | 89/150 [02:27<01:32,  1.51s/it]"
          ]
        },
        {
          "name": "stdout",
          "output_type": "stream",
          "text": [
            "19/19 [==============================] - 0s 1ms/step\n"
          ]
        },
        {
          "name": "stderr",
          "output_type": "stream",
          "text": [
            " 60%|██████    | 90/150 [02:29<01:35,  1.59s/it]"
          ]
        },
        {
          "name": "stdout",
          "output_type": "stream",
          "text": [
            "19/19 [==============================] - 0s 1ms/step\n"
          ]
        },
        {
          "name": "stderr",
          "output_type": "stream",
          "text": [
            " 61%|██████    | 91/150 [02:31<01:33,  1.59s/it]"
          ]
        },
        {
          "name": "stdout",
          "output_type": "stream",
          "text": [
            "19/19 [==============================] - 0s 1ms/step\n"
          ]
        },
        {
          "name": "stderr",
          "output_type": "stream",
          "text": [
            " 61%|██████▏   | 92/150 [02:32<01:28,  1.53s/it]"
          ]
        },
        {
          "name": "stdout",
          "output_type": "stream",
          "text": [
            "19/19 [==============================] - 0s 1ms/step\n"
          ]
        },
        {
          "name": "stderr",
          "output_type": "stream",
          "text": [
            " 62%|██████▏   | 93/150 [02:34<01:25,  1.49s/it]"
          ]
        },
        {
          "name": "stdout",
          "output_type": "stream",
          "text": [
            "19/19 [==============================] - 0s 1ms/step\n"
          ]
        },
        {
          "name": "stderr",
          "output_type": "stream",
          "text": [
            " 63%|██████▎   | 94/150 [02:35<01:18,  1.41s/it]"
          ]
        },
        {
          "name": "stdout",
          "output_type": "stream",
          "text": [
            "19/19 [==============================] - 0s 1ms/step\n"
          ]
        },
        {
          "name": "stderr",
          "output_type": "stream",
          "text": [
            " 63%|██████▎   | 95/150 [02:36<01:19,  1.45s/it]"
          ]
        },
        {
          "name": "stdout",
          "output_type": "stream",
          "text": [
            "19/19 [==============================] - 0s 1ms/step\n"
          ]
        },
        {
          "name": "stderr",
          "output_type": "stream",
          "text": [
            " 64%|██████▍   | 96/150 [02:38<01:17,  1.43s/it]"
          ]
        },
        {
          "name": "stdout",
          "output_type": "stream",
          "text": [
            "19/19 [==============================] - 0s 1ms/step\n"
          ]
        },
        {
          "name": "stderr",
          "output_type": "stream",
          "text": [
            " 65%|██████▍   | 97/150 [02:39<01:15,  1.42s/it]"
          ]
        },
        {
          "name": "stdout",
          "output_type": "stream",
          "text": [
            "19/19 [==============================] - 0s 1ms/step\n"
          ]
        },
        {
          "name": "stderr",
          "output_type": "stream",
          "text": [
            " 65%|██████▌   | 98/150 [02:41<01:24,  1.63s/it]"
          ]
        },
        {
          "name": "stdout",
          "output_type": "stream",
          "text": [
            "19/19 [==============================] - 0s 1ms/step\n"
          ]
        },
        {
          "name": "stderr",
          "output_type": "stream",
          "text": [
            " 66%|██████▌   | 99/150 [02:42<01:16,  1.50s/it]"
          ]
        },
        {
          "name": "stdout",
          "output_type": "stream",
          "text": [
            "19/19 [==============================] - 0s 1ms/step\n"
          ]
        },
        {
          "name": "stderr",
          "output_type": "stream",
          "text": [
            " 67%|██████▋   | 100/150 [02:44<01:16,  1.53s/it]"
          ]
        },
        {
          "name": "stdout",
          "output_type": "stream",
          "text": [
            "19/19 [==============================] - 0s 1ms/step\n"
          ]
        },
        {
          "name": "stderr",
          "output_type": "stream",
          "text": [
            " 67%|██████▋   | 101/150 [02:45<01:12,  1.48s/it]"
          ]
        },
        {
          "name": "stdout",
          "output_type": "stream",
          "text": [
            "19/19 [==============================] - 0s 1ms/step\n"
          ]
        },
        {
          "name": "stderr",
          "output_type": "stream",
          "text": [
            " 68%|██████▊   | 102/150 [02:47<01:12,  1.51s/it]"
          ]
        },
        {
          "name": "stdout",
          "output_type": "stream",
          "text": [
            "19/19 [==============================] - 0s 1ms/step\n"
          ]
        },
        {
          "name": "stderr",
          "output_type": "stream",
          "text": [
            " 69%|██████▊   | 103/150 [02:49<01:20,  1.72s/it]"
          ]
        },
        {
          "name": "stdout",
          "output_type": "stream",
          "text": [
            "19/19 [==============================] - 0s 1ms/step\n"
          ]
        },
        {
          "name": "stderr",
          "output_type": "stream",
          "text": [
            " 69%|██████▉   | 104/150 [02:51<01:23,  1.82s/it]"
          ]
        },
        {
          "name": "stdout",
          "output_type": "stream",
          "text": [
            "19/19 [==============================] - 0s 1ms/step\n"
          ]
        },
        {
          "name": "stderr",
          "output_type": "stream",
          "text": [
            " 70%|███████   | 105/150 [02:53<01:18,  1.74s/it]"
          ]
        },
        {
          "name": "stdout",
          "output_type": "stream",
          "text": [
            "19/19 [==============================] - 0s 1ms/step\n"
          ]
        },
        {
          "name": "stderr",
          "output_type": "stream",
          "text": [
            " 71%|███████   | 106/150 [02:54<01:12,  1.64s/it]"
          ]
        },
        {
          "name": "stdout",
          "output_type": "stream",
          "text": [
            "19/19 [==============================] - 0s 1ms/step\n"
          ]
        },
        {
          "name": "stderr",
          "output_type": "stream",
          "text": [
            " 71%|███████▏  | 107/150 [02:56<01:11,  1.67s/it]"
          ]
        },
        {
          "name": "stdout",
          "output_type": "stream",
          "text": [
            "19/19 [==============================] - 0s 1ms/step\n"
          ]
        },
        {
          "name": "stderr",
          "output_type": "stream",
          "text": [
            " 72%|███████▏  | 108/150 [02:58<01:08,  1.64s/it]"
          ]
        },
        {
          "name": "stdout",
          "output_type": "stream",
          "text": [
            "19/19 [==============================] - 0s 1ms/step\n"
          ]
        },
        {
          "name": "stderr",
          "output_type": "stream",
          "text": [
            " 73%|███████▎  | 109/150 [02:59<01:01,  1.51s/it]"
          ]
        },
        {
          "name": "stdout",
          "output_type": "stream",
          "text": [
            "19/19 [==============================] - 0s 1ms/step\n"
          ]
        },
        {
          "name": "stderr",
          "output_type": "stream",
          "text": [
            " 73%|███████▎  | 110/150 [03:00<00:58,  1.46s/it]"
          ]
        },
        {
          "name": "stdout",
          "output_type": "stream",
          "text": [
            "19/19 [==============================] - 0s 1ms/step\n"
          ]
        },
        {
          "name": "stderr",
          "output_type": "stream",
          "text": [
            " 74%|███████▍  | 111/150 [03:02<01:00,  1.54s/it]"
          ]
        },
        {
          "name": "stdout",
          "output_type": "stream",
          "text": [
            "19/19 [==============================] - 0s 1ms/step\n"
          ]
        },
        {
          "name": "stderr",
          "output_type": "stream",
          "text": [
            " 75%|███████▍  | 112/150 [03:03<00:59,  1.57s/it]"
          ]
        },
        {
          "name": "stdout",
          "output_type": "stream",
          "text": [
            "19/19 [==============================] - 0s 1ms/step\n"
          ]
        },
        {
          "name": "stderr",
          "output_type": "stream",
          "text": [
            " 75%|███████▌  | 113/150 [03:05<00:56,  1.52s/it]"
          ]
        },
        {
          "name": "stdout",
          "output_type": "stream",
          "text": [
            "19/19 [==============================] - 0s 1ms/step\n"
          ]
        },
        {
          "name": "stderr",
          "output_type": "stream",
          "text": [
            " 76%|███████▌  | 114/150 [03:07<00:56,  1.57s/it]"
          ]
        },
        {
          "name": "stdout",
          "output_type": "stream",
          "text": [
            "19/19 [==============================] - 0s 1ms/step\n"
          ]
        },
        {
          "name": "stderr",
          "output_type": "stream",
          "text": [
            " 77%|███████▋  | 115/150 [03:08<00:51,  1.46s/it]"
          ]
        },
        {
          "name": "stdout",
          "output_type": "stream",
          "text": [
            "19/19 [==============================] - 0s 1ms/step\n"
          ]
        },
        {
          "name": "stderr",
          "output_type": "stream",
          "text": [
            " 77%|███████▋  | 116/150 [03:09<00:46,  1.38s/it]"
          ]
        },
        {
          "name": "stdout",
          "output_type": "stream",
          "text": [
            "19/19 [==============================] - 0s 1ms/step\n"
          ]
        },
        {
          "name": "stderr",
          "output_type": "stream",
          "text": [
            " 78%|███████▊  | 117/150 [03:11<00:49,  1.51s/it]"
          ]
        },
        {
          "name": "stdout",
          "output_type": "stream",
          "text": [
            "19/19 [==============================] - 0s 1ms/step\n"
          ]
        },
        {
          "name": "stderr",
          "output_type": "stream",
          "text": [
            " 79%|███████▊  | 118/150 [03:13<00:51,  1.60s/it]"
          ]
        },
        {
          "name": "stdout",
          "output_type": "stream",
          "text": [
            "19/19 [==============================] - 0s 1ms/step\n"
          ]
        },
        {
          "name": "stderr",
          "output_type": "stream",
          "text": [
            " 79%|███████▉  | 119/150 [03:14<00:49,  1.60s/it]"
          ]
        },
        {
          "name": "stdout",
          "output_type": "stream",
          "text": [
            "19/19 [==============================] - 0s 1ms/step\n"
          ]
        },
        {
          "name": "stderr",
          "output_type": "stream",
          "text": [
            " 80%|████████  | 120/150 [03:16<00:51,  1.70s/it]"
          ]
        },
        {
          "name": "stdout",
          "output_type": "stream",
          "text": [
            "19/19 [==============================] - 0s 1ms/step\n"
          ]
        },
        {
          "name": "stderr",
          "output_type": "stream",
          "text": [
            " 81%|████████  | 121/150 [03:17<00:44,  1.55s/it]"
          ]
        },
        {
          "name": "stdout",
          "output_type": "stream",
          "text": [
            "19/19 [==============================] - 0s 1ms/step\n"
          ]
        },
        {
          "name": "stderr",
          "output_type": "stream",
          "text": [
            " 81%|████████▏ | 122/150 [03:18<00:40,  1.44s/it]"
          ]
        },
        {
          "name": "stdout",
          "output_type": "stream",
          "text": [
            "19/19 [==============================] - 0s 1ms/step\n"
          ]
        },
        {
          "name": "stderr",
          "output_type": "stream",
          "text": [
            " 82%|████████▏ | 123/150 [03:20<00:38,  1.43s/it]"
          ]
        },
        {
          "name": "stdout",
          "output_type": "stream",
          "text": [
            "19/19 [==============================] - 0s 1ms/step\n"
          ]
        },
        {
          "name": "stderr",
          "output_type": "stream",
          "text": [
            " 83%|████████▎ | 124/150 [03:22<00:42,  1.63s/it]"
          ]
        },
        {
          "name": "stdout",
          "output_type": "stream",
          "text": [
            "19/19 [==============================] - 0s 1ms/step\n"
          ]
        },
        {
          "name": "stderr",
          "output_type": "stream",
          "text": [
            " 83%|████████▎ | 125/150 [03:24<00:41,  1.66s/it]"
          ]
        },
        {
          "name": "stdout",
          "output_type": "stream",
          "text": [
            "19/19 [==============================] - 0s 1ms/step\n"
          ]
        },
        {
          "name": "stderr",
          "output_type": "stream",
          "text": [
            " 84%|████████▍ | 126/150 [03:26<00:41,  1.74s/it]"
          ]
        },
        {
          "name": "stdout",
          "output_type": "stream",
          "text": [
            "19/19 [==============================] - 0s 1ms/step\n"
          ]
        },
        {
          "name": "stderr",
          "output_type": "stream",
          "text": [
            " 85%|████████▍ | 127/150 [03:27<00:40,  1.77s/it]"
          ]
        },
        {
          "name": "stdout",
          "output_type": "stream",
          "text": [
            "19/19 [==============================] - 0s 1ms/step\n"
          ]
        },
        {
          "name": "stderr",
          "output_type": "stream",
          "text": [
            " 85%|████████▌ | 128/150 [03:29<00:38,  1.76s/it]"
          ]
        },
        {
          "name": "stdout",
          "output_type": "stream",
          "text": [
            "19/19 [==============================] - 0s 1ms/step\n"
          ]
        },
        {
          "name": "stderr",
          "output_type": "stream",
          "text": [
            " 86%|████████▌ | 129/150 [03:31<00:34,  1.65s/it]"
          ]
        },
        {
          "name": "stdout",
          "output_type": "stream",
          "text": [
            "19/19 [==============================] - 0s 1ms/step\n"
          ]
        },
        {
          "name": "stderr",
          "output_type": "stream",
          "text": [
            " 87%|████████▋ | 130/150 [03:32<00:30,  1.51s/it]"
          ]
        },
        {
          "name": "stdout",
          "output_type": "stream",
          "text": [
            "19/19 [==============================] - 0s 1ms/step\n"
          ]
        },
        {
          "name": "stderr",
          "output_type": "stream",
          "text": [
            " 87%|████████▋ | 131/150 [03:33<00:26,  1.41s/it]"
          ]
        },
        {
          "name": "stdout",
          "output_type": "stream",
          "text": [
            "19/19 [==============================] - 0s 1ms/step\n"
          ]
        },
        {
          "name": "stderr",
          "output_type": "stream",
          "text": [
            " 88%|████████▊ | 132/150 [03:35<00:26,  1.45s/it]"
          ]
        },
        {
          "name": "stdout",
          "output_type": "stream",
          "text": [
            "19/19 [==============================] - 0s 1ms/step\n"
          ]
        },
        {
          "name": "stderr",
          "output_type": "stream",
          "text": [
            " 89%|████████▊ | 133/150 [03:36<00:23,  1.38s/it]"
          ]
        },
        {
          "name": "stdout",
          "output_type": "stream",
          "text": [
            "19/19 [==============================] - 0s 1ms/step\n"
          ]
        },
        {
          "name": "stderr",
          "output_type": "stream",
          "text": [
            " 89%|████████▉ | 134/150 [03:38<00:25,  1.56s/it]"
          ]
        },
        {
          "name": "stdout",
          "output_type": "stream",
          "text": [
            "19/19 [==============================] - 0s 1ms/step\n"
          ]
        },
        {
          "name": "stderr",
          "output_type": "stream",
          "text": [
            " 90%|█████████ | 135/150 [03:39<00:22,  1.50s/it]"
          ]
        },
        {
          "name": "stdout",
          "output_type": "stream",
          "text": [
            "19/19 [==============================] - 0s 1ms/step\n"
          ]
        },
        {
          "name": "stderr",
          "output_type": "stream",
          "text": [
            " 91%|█████████ | 136/150 [03:40<00:20,  1.46s/it]"
          ]
        },
        {
          "name": "stdout",
          "output_type": "stream",
          "text": [
            "19/19 [==============================] - 0s 1ms/step\n"
          ]
        },
        {
          "name": "stderr",
          "output_type": "stream",
          "text": [
            " 91%|█████████▏| 137/150 [03:42<00:19,  1.50s/it]"
          ]
        },
        {
          "name": "stdout",
          "output_type": "stream",
          "text": [
            "19/19 [==============================] - 0s 1ms/step\n"
          ]
        },
        {
          "name": "stderr",
          "output_type": "stream",
          "text": [
            " 92%|█████████▏| 138/150 [03:43<00:16,  1.41s/it]"
          ]
        },
        {
          "name": "stdout",
          "output_type": "stream",
          "text": [
            "19/19 [==============================] - 0s 1ms/step\n"
          ]
        },
        {
          "name": "stderr",
          "output_type": "stream",
          "text": [
            " 93%|█████████▎| 139/150 [03:45<00:15,  1.39s/it]"
          ]
        },
        {
          "name": "stdout",
          "output_type": "stream",
          "text": [
            "19/19 [==============================] - 0s 1ms/step\n"
          ]
        },
        {
          "name": "stderr",
          "output_type": "stream",
          "text": [
            " 93%|█████████▎| 140/150 [03:46<00:14,  1.47s/it]"
          ]
        },
        {
          "name": "stdout",
          "output_type": "stream",
          "text": [
            "19/19 [==============================] - 0s 1ms/step\n"
          ]
        },
        {
          "name": "stderr",
          "output_type": "stream",
          "text": [
            " 94%|█████████▍| 141/150 [03:48<00:14,  1.64s/it]"
          ]
        },
        {
          "name": "stdout",
          "output_type": "stream",
          "text": [
            "19/19 [==============================] - 0s 1ms/step\n"
          ]
        },
        {
          "name": "stderr",
          "output_type": "stream",
          "text": [
            " 95%|█████████▍| 142/150 [03:50<00:13,  1.73s/it]"
          ]
        },
        {
          "name": "stdout",
          "output_type": "stream",
          "text": [
            "19/19 [==============================] - 0s 1ms/step\n"
          ]
        },
        {
          "name": "stderr",
          "output_type": "stream",
          "text": [
            " 95%|█████████▌| 143/150 [03:52<00:12,  1.82s/it]"
          ]
        },
        {
          "name": "stdout",
          "output_type": "stream",
          "text": [
            "19/19 [==============================] - 0s 1ms/step\n"
          ]
        },
        {
          "name": "stderr",
          "output_type": "stream",
          "text": [
            " 96%|█████████▌| 144/150 [03:54<00:10,  1.76s/it]"
          ]
        },
        {
          "name": "stdout",
          "output_type": "stream",
          "text": [
            "19/19 [==============================] - 0s 1ms/step\n"
          ]
        },
        {
          "name": "stderr",
          "output_type": "stream",
          "text": [
            " 97%|█████████▋| 145/150 [03:56<00:08,  1.76s/it]"
          ]
        },
        {
          "name": "stdout",
          "output_type": "stream",
          "text": [
            "19/19 [==============================] - 0s 1ms/step\n"
          ]
        },
        {
          "name": "stderr",
          "output_type": "stream",
          "text": [
            " 97%|█████████▋| 146/150 [03:57<00:06,  1.64s/it]"
          ]
        },
        {
          "name": "stdout",
          "output_type": "stream",
          "text": [
            "19/19 [==============================] - 0s 1ms/step\n"
          ]
        },
        {
          "name": "stderr",
          "output_type": "stream",
          "text": [
            " 98%|█████████▊| 147/150 [03:59<00:05,  1.68s/it]"
          ]
        },
        {
          "name": "stdout",
          "output_type": "stream",
          "text": [
            "19/19 [==============================] - 0s 1ms/step\n"
          ]
        },
        {
          "name": "stderr",
          "output_type": "stream",
          "text": [
            " 99%|█████████▊| 148/150 [04:00<00:03,  1.59s/it]"
          ]
        },
        {
          "name": "stdout",
          "output_type": "stream",
          "text": [
            "19/19 [==============================] - 0s 1ms/step\n"
          ]
        },
        {
          "name": "stderr",
          "output_type": "stream",
          "text": [
            " 99%|█████████▉| 149/150 [04:02<00:01,  1.57s/it]"
          ]
        },
        {
          "name": "stdout",
          "output_type": "stream",
          "text": [
            "19/19 [==============================] - 0s 1ms/step\n"
          ]
        },
        {
          "name": "stderr",
          "output_type": "stream",
          "text": [
            "100%|██████████| 150/150 [04:04<00:00,  1.63s/it]"
          ]
        },
        {
          "name": "stdout",
          "output_type": "stream",
          "text": [
            "[2. 0. 1. 0. 2. 2. 2. 0. 2. 0. 2. 2. 0. 0. 0. 2. 0. 0. 0. 0. 0. 2. 2. 0.\n",
            " 0. 2. 2. 2. 0. 2. 0. 2. 2. 0. 2. 1. 2. 2. 0. 2. 2. 2. 0. 0. 2. 2. 0. 0.\n",
            " 0. 2. 2. 0. 0. 2. 1. 2. 2. 2. 1. 0. 2. 2. 2. 0. 0. 2. 2. 0. 0. 0. 2. 2.\n",
            " 0. 2. 0. 0. 2. 1. 2. 2. 2. 0. 2. 0. 0. 2. 2. 0. 2. 2. 1. 0. 2. 1. 1. 2.\n",
            " 0. 0. 2. 0. 2. 1. 1. 0. 2. 0. 2. 0. 2. 2. 2. 2. 0. 0. 0. 0. 2. 2. 0. 0.\n",
            " 2. 2. 0. 0. 2. 2. 2. 0. 2. 2. 0. 2. 0. 0. 0. 2. 2. 0. 1. 1. 0. 0. 2. 2.\n",
            " 0. 2. 2. 2. 0. 2. 0. 1. 1. 2. 2. 0. 0. 2. 2. 2. 0. 0. 2. 2. 0. 1. 2. 2.\n",
            " 0. 2. 0. 2. 0. 2. 0. 2. 0. 2. 2. 0. 2. 2. 2. 2. 0. 0. 0. 2. 2. 0. 0. 0.\n",
            " 2. 2. 0. 2. 0. 2. 2. 0. 0. 2. 0. 0. 0. 2. 0. 0. 0. 2. 0. 2. 0. 2. 0. 0.\n",
            " 0. 2. 2. 0. 2. 2. 2. 2. 2. 2. 2. 2. 0. 0. 2. 0. 2. 0. 2. 0. 2. 0. 2. 2.\n",
            " 0. 2. 0. 2. 2. 2. 0. 0. 2. 2. 2. 2. 2. 2. 0. 2. 2. 2. 1. 0. 2. 2. 2. 2.\n",
            " 2. 2. 0. 2. 2. 0. 0. 2. 2. 0. 2. 0. 0. 2. 2. 0. 0. 2. 0. 2. 0. 2. 2. 0.\n",
            " 2. 2. 2. 2. 2. 0. 0. 1. 0. 2. 0. 2. 0. 0. 2. 2. 2. 2. 0. 0. 2. 0. 0. 2.\n",
            " 0. 2. 0. 0. 2. 0. 2. 0. 0. 2. 2. 2. 0. 0. 0. 2. 2. 0. 2. 2. 0. 2. 2. 2.\n",
            " 2. 0. 2. 2. 2. 0. 0. 2. 0. 0. 2. 0. 2. 2. 0. 2. 0. 0. 2. 2. 2. 2. 2. 0.\n",
            " 0. 0. 2. 2. 2. 0. 2. 0. 0. 2. 2. 0. 2. 0. 2. 2. 0. 0. 2. 2. 0. 0. 0. 0.\n",
            " 2. 0. 2. 2. 0. 2. 0. 2. 0. 2. 2. 2. 2. 2. 0. 0. 0. 2. 2. 0. 0. 2. 2. 0.\n",
            " 2. 0. 2. 2. 2. 2. 0. 2. 2. 2. 0. 2. 0. 0. 2. 0. 2. 2. 2. 2. 0. 2. 2. 0.\n",
            " 0. 0. 0. 2. 0. 0. 2. 1. 0. 2. 0. 2. 0. 0. 2. 0. 2. 0. 2. 2. 2. 2. 2. 2.\n",
            " 2. 2. 0. 2. 0. 0. 0. 2. 0. 0. 0. 2. 0. 2. 0. 0. 2. 0. 2. 2. 2. 2. 2. 0.\n",
            " 2. 2. 0. 2. 0. 2. 2. 2. 0. 2. 2. 0. 2. 0. 2. 2. 1. 2. 2. 0. 0. 0. 0. 0.\n",
            " 0. 2. 2. 2. 0. 2. 0. 1. 2. 0. 2. 2. 1. 0. 0. 0. 2. 0. 0. 2. 0. 2. 2. 2.\n",
            " 2. 0. 2. 2. 2. 2. 0. 2. 2. 2. 1. 2. 2. 0. 0. 0. 2. 2. 2. 0. 2. 2. 2. 2.\n",
            " 2. 2. 2. 2. 0. 2. 2. 2. 0. 2. 0. 0. 1. 2. 0. 0. 2. 0. 0. 2. 0. 0. 2. 2.\n",
            " 2. 0. 0. 2. 0.]\n"
          ]
        },
        {
          "name": "stderr",
          "output_type": "stream",
          "text": [
            "\n"
          ]
        }
      ],
      "source": [
        "object_imp = np.zeros(581)\n",
        "idx = 0\n",
        "for img_idx in tqdm(range(1, 151)):\n",
        "  img_name = \"img\" + str(img_idx)\n",
        "  img_data = data.loc[data[\"img_name\"]==img_name]\n",
        "\n",
        "  src_img = cv.imread(\"database/imgs/\" + img_name + \".bmp\")\n",
        "  src_img = cv.cvtColor(src_img, cv.COLOR_BGR2RGB)\n",
        "  msk_img = cv.imread(\n",
        "  \"database/imgs/msk/\" + img_name + \"_msk.bmp\")\n",
        "  msk_img = cv.cvtColor(msk_img, cv.COLOR_BGR2RGB)\n",
        "\n",
        "  num_rows = src_img.shape[0]\n",
        "  num_cols = src_img.shape[1]\n",
        "  \n",
        "  test_patches = []\n",
        "  imp_pred_matrics = np.zeros((num_rows, num_cols))\n",
        "  test_img_parse(src_img, test_patches)\n",
        "  \n",
        "  X_tst = np.zeros((len(test_patches), PATCH_SIZE, PATCH_SIZE, 5))\n",
        "\n",
        "  for i in range(len(test_patches)):\n",
        "   X_tst[i,:] = test_patches[i]\n",
        "\n",
        "  y_tst_prd = model.predict(X_tst)\n",
        "  test_imp_matrics = np.argmax(y_tst_prd, axis=1).reshape(int((num_rows-1)/PATCH_SIZE), int((num_cols-1)/PATCH_SIZE))\n",
        "  recover_imp(test_imp_matrics, imp_pred_matrics)\n",
        "  \n",
        "  for obj_idx, obj_data in img_data.iterrows():\n",
        "    obj_name = obj_data[\"obj_name\"]\n",
        "    obj_imp = obj_data[\"class\"]\n",
        "    msk_r = obj_data[\"R\"]\n",
        "    msk_g = obj_data[\"G\"]\n",
        "    msk_b = obj_data[\"B\"]\n",
        "    \n",
        "    importance = []\n",
        "    for r in range(num_rows):\n",
        "      for c in range(num_cols):\n",
        "        if msk_img[r, c, 0] == msk_r and \\\n",
        "          msk_img[r, c, 1] == msk_g and \\\n",
        "          msk_img[r, c, 2] == msk_b:\n",
        "          \n",
        "          importance.append(imp_pred_matrics[r, c])\n",
        "          \n",
        "    #Calculate the maximum number of important classes corresponding to each pixel in object\n",
        "    object_imp[idx] = np.argmax(np.bincount(importance))\n",
        "    idx += 1\n",
        "print(object_imp)"
      ]
    },
    {
      "cell_type": "code",
      "execution_count": 84,
      "metadata": {},
      "outputs": [
        {
          "name": "stdout",
          "output_type": "stream",
          "text": [
            "(279,)\n",
            "(581,)\n",
            "Testing accuracy:  0.6272401433691757\n"
          ]
        }
      ],
      "source": [
        "data_tst = data.iloc[302:]\n",
        "y_tst = np.array(data_tst[\"class\"])\n",
        "print(y_tst.shape)\n",
        "print(object_imp.shape)\n",
        "print('Testing accuracy: ', \n",
        "  accuracy_score(y_true=y_tst, y_pred=object_imp[302:]))"
      ]
    },
    {
      "cell_type": "code",
      "execution_count": 85,
      "metadata": {},
      "outputs": [
        {
          "data": {
            "text/html": [
              "<div>\n",
              "<style scoped>\n",
              "    .dataframe tbody tr th:only-of-type {\n",
              "        vertical-align: middle;\n",
              "    }\n",
              "\n",
              "    .dataframe tbody tr th {\n",
              "        vertical-align: top;\n",
              "    }\n",
              "\n",
              "    .dataframe thead th {\n",
              "        text-align: right;\n",
              "    }\n",
              "</style>\n",
              "<table border=\"1\" class=\"dataframe\">\n",
              "  <thead>\n",
              "    <tr style=\"text-align: right;\">\n",
              "      <th></th>\n",
              "      <th>num_objs</th>\n",
              "      <th>img_name</th>\n",
              "      <th>obj_name</th>\n",
              "      <th>R</th>\n",
              "      <th>G</th>\n",
              "      <th>B</th>\n",
              "      <th>size</th>\n",
              "      <th>loc</th>\n",
              "      <th>cnn_imp</th>\n",
              "      <th>class</th>\n",
              "    </tr>\n",
              "  </thead>\n",
              "  <tbody>\n",
              "    <tr>\n",
              "      <th>0</th>\n",
              "      <td>4</td>\n",
              "      <td>img1</td>\n",
              "      <td>bridge</td>\n",
              "      <td>255</td>\n",
              "      <td>255</td>\n",
              "      <td>255</td>\n",
              "      <td>53051.0</td>\n",
              "      <td>27.469916</td>\n",
              "      <td>2.0</td>\n",
              "      <td>2</td>\n",
              "    </tr>\n",
              "    <tr>\n",
              "      <th>1</th>\n",
              "      <td>4</td>\n",
              "      <td>img1</td>\n",
              "      <td>land</td>\n",
              "      <td>0</td>\n",
              "      <td>128</td>\n",
              "      <td>0</td>\n",
              "      <td>33566.0</td>\n",
              "      <td>19.368677</td>\n",
              "      <td>0.0</td>\n",
              "      <td>0</td>\n",
              "    </tr>\n",
              "    <tr>\n",
              "      <th>2</th>\n",
              "      <td>4</td>\n",
              "      <td>img1</td>\n",
              "      <td>mountain</td>\n",
              "      <td>128</td>\n",
              "      <td>128</td>\n",
              "      <td>128</td>\n",
              "      <td>35122.0</td>\n",
              "      <td>25.576144</td>\n",
              "      <td>1.0</td>\n",
              "      <td>1</td>\n",
              "    </tr>\n",
              "    <tr>\n",
              "      <th>3</th>\n",
              "      <td>4</td>\n",
              "      <td>img1</td>\n",
              "      <td>sky</td>\n",
              "      <td>0</td>\n",
              "      <td>128</td>\n",
              "      <td>128</td>\n",
              "      <td>32662.0</td>\n",
              "      <td>44.331890</td>\n",
              "      <td>0.0</td>\n",
              "      <td>0</td>\n",
              "    </tr>\n",
              "    <tr>\n",
              "      <th>4</th>\n",
              "      <td>4</td>\n",
              "      <td>img2</td>\n",
              "      <td>trees</td>\n",
              "      <td>0</td>\n",
              "      <td>128</td>\n",
              "      <td>0</td>\n",
              "      <td>37476.0</td>\n",
              "      <td>60.177724</td>\n",
              "      <td>2.0</td>\n",
              "      <td>2</td>\n",
              "    </tr>\n",
              "    <tr>\n",
              "      <th>5</th>\n",
              "      <td>4</td>\n",
              "      <td>img2</td>\n",
              "      <td>mountain</td>\n",
              "      <td>192</td>\n",
              "      <td>192</td>\n",
              "      <td>192</td>\n",
              "      <td>84098.0</td>\n",
              "      <td>9.698909</td>\n",
              "      <td>2.0</td>\n",
              "      <td>2</td>\n",
              "    </tr>\n",
              "    <tr>\n",
              "      <th>6</th>\n",
              "      <td>4</td>\n",
              "      <td>img2</td>\n",
              "      <td>house</td>\n",
              "      <td>255</td>\n",
              "      <td>255</td>\n",
              "      <td>255</td>\n",
              "      <td>7830.0</td>\n",
              "      <td>39.892550</td>\n",
              "      <td>2.0</td>\n",
              "      <td>2</td>\n",
              "    </tr>\n",
              "    <tr>\n",
              "      <th>7</th>\n",
              "      <td>4</td>\n",
              "      <td>img2</td>\n",
              "      <td>sky</td>\n",
              "      <td>0</td>\n",
              "      <td>255</td>\n",
              "      <td>255</td>\n",
              "      <td>24997.0</td>\n",
              "      <td>69.648777</td>\n",
              "      <td>0.0</td>\n",
              "      <td>0</td>\n",
              "    </tr>\n",
              "    <tr>\n",
              "      <th>8</th>\n",
              "      <td>7</td>\n",
              "      <td>img3</td>\n",
              "      <td>people</td>\n",
              "      <td>255</td>\n",
              "      <td>255</td>\n",
              "      <td>255</td>\n",
              "      <td>11963.0</td>\n",
              "      <td>19.858194</td>\n",
              "      <td>2.0</td>\n",
              "      <td>2</td>\n",
              "    </tr>\n",
              "    <tr>\n",
              "      <th>9</th>\n",
              "      <td>7</td>\n",
              "      <td>img3</td>\n",
              "      <td>grass</td>\n",
              "      <td>0</td>\n",
              "      <td>255</td>\n",
              "      <td>0</td>\n",
              "      <td>32224.0</td>\n",
              "      <td>43.476477</td>\n",
              "      <td>0.0</td>\n",
              "      <td>1</td>\n",
              "    </tr>\n",
              "    <tr>\n",
              "      <th>10</th>\n",
              "      <td>7</td>\n",
              "      <td>img3</td>\n",
              "      <td>bushes</td>\n",
              "      <td>128</td>\n",
              "      <td>128</td>\n",
              "      <td>0</td>\n",
              "      <td>33403.0</td>\n",
              "      <td>17.155119</td>\n",
              "      <td>2.0</td>\n",
              "      <td>0</td>\n",
              "    </tr>\n",
              "    <tr>\n",
              "      <th>11</th>\n",
              "      <td>7</td>\n",
              "      <td>img3</td>\n",
              "      <td>rocks</td>\n",
              "      <td>128</td>\n",
              "      <td>0</td>\n",
              "      <td>0</td>\n",
              "      <td>8110.0</td>\n",
              "      <td>9.593244</td>\n",
              "      <td>2.0</td>\n",
              "      <td>0</td>\n",
              "    </tr>\n",
              "    <tr>\n",
              "      <th>12</th>\n",
              "      <td>7</td>\n",
              "      <td>img3</td>\n",
              "      <td>sea</td>\n",
              "      <td>0</td>\n",
              "      <td>255</td>\n",
              "      <td>255</td>\n",
              "      <td>28054.0</td>\n",
              "      <td>14.632539</td>\n",
              "      <td>0.0</td>\n",
              "      <td>0</td>\n",
              "    </tr>\n",
              "    <tr>\n",
              "      <th>13</th>\n",
              "      <td>7</td>\n",
              "      <td>img3</td>\n",
              "      <td>white blob</td>\n",
              "      <td>128</td>\n",
              "      <td>128</td>\n",
              "      <td>128</td>\n",
              "      <td>197.0</td>\n",
              "      <td>38.177943</td>\n",
              "      <td>0.0</td>\n",
              "      <td>0</td>\n",
              "    </tr>\n",
              "    <tr>\n",
              "      <th>14</th>\n",
              "      <td>7</td>\n",
              "      <td>img3</td>\n",
              "      <td>sky</td>\n",
              "      <td>0</td>\n",
              "      <td>128</td>\n",
              "      <td>128</td>\n",
              "      <td>40450.0</td>\n",
              "      <td>41.118953</td>\n",
              "      <td>0.0</td>\n",
              "      <td>0</td>\n",
              "    </tr>\n",
              "    <tr>\n",
              "      <th>15</th>\n",
              "      <td>5</td>\n",
              "      <td>img4</td>\n",
              "      <td>houses</td>\n",
              "      <td>255</td>\n",
              "      <td>255</td>\n",
              "      <td>255</td>\n",
              "      <td>19712.0</td>\n",
              "      <td>7.138723</td>\n",
              "      <td>2.0</td>\n",
              "      <td>2</td>\n",
              "    </tr>\n",
              "    <tr>\n",
              "      <th>16</th>\n",
              "      <td>5</td>\n",
              "      <td>img4</td>\n",
              "      <td>trees</td>\n",
              "      <td>0</td>\n",
              "      <td>128</td>\n",
              "      <td>0</td>\n",
              "      <td>52200.0</td>\n",
              "      <td>12.282692</td>\n",
              "      <td>0.0</td>\n",
              "      <td>0</td>\n",
              "    </tr>\n",
              "    <tr>\n",
              "      <th>17</th>\n",
              "      <td>5</td>\n",
              "      <td>img4</td>\n",
              "      <td>path</td>\n",
              "      <td>128</td>\n",
              "      <td>128</td>\n",
              "      <td>128</td>\n",
              "      <td>8232.0</td>\n",
              "      <td>57.992894</td>\n",
              "      <td>0.0</td>\n",
              "      <td>0</td>\n",
              "    </tr>\n",
              "    <tr>\n",
              "      <th>18</th>\n",
              "      <td>5</td>\n",
              "      <td>img4</td>\n",
              "      <td>land</td>\n",
              "      <td>0</td>\n",
              "      <td>255</td>\n",
              "      <td>0</td>\n",
              "      <td>32546.0</td>\n",
              "      <td>41.189866</td>\n",
              "      <td>0.0</td>\n",
              "      <td>0</td>\n",
              "    </tr>\n",
              "    <tr>\n",
              "      <th>19</th>\n",
              "      <td>5</td>\n",
              "      <td>img4</td>\n",
              "      <td>sky</td>\n",
              "      <td>0</td>\n",
              "      <td>255</td>\n",
              "      <td>255</td>\n",
              "      <td>41711.0</td>\n",
              "      <td>30.913366</td>\n",
              "      <td>0.0</td>\n",
              "      <td>0</td>\n",
              "    </tr>\n",
              "  </tbody>\n",
              "</table>\n",
              "</div>"
            ],
            "text/plain": [
              "    num_objs img_name    obj_name    R    G    B     size        loc  cnn_imp  \\\n",
              "0          4     img1      bridge  255  255  255  53051.0  27.469916      2.0   \n",
              "1          4     img1        land    0  128    0  33566.0  19.368677      0.0   \n",
              "2          4     img1    mountain  128  128  128  35122.0  25.576144      1.0   \n",
              "3          4     img1         sky    0  128  128  32662.0  44.331890      0.0   \n",
              "4          4     img2       trees    0  128    0  37476.0  60.177724      2.0   \n",
              "5          4     img2    mountain  192  192  192  84098.0   9.698909      2.0   \n",
              "6          4     img2       house  255  255  255   7830.0  39.892550      2.0   \n",
              "7          4     img2         sky    0  255  255  24997.0  69.648777      0.0   \n",
              "8          7     img3      people  255  255  255  11963.0  19.858194      2.0   \n",
              "9          7     img3       grass    0  255    0  32224.0  43.476477      0.0   \n",
              "10         7     img3      bushes  128  128    0  33403.0  17.155119      2.0   \n",
              "11         7     img3       rocks  128    0    0   8110.0   9.593244      2.0   \n",
              "12         7     img3         sea    0  255  255  28054.0  14.632539      0.0   \n",
              "13         7     img3  white blob  128  128  128    197.0  38.177943      0.0   \n",
              "14         7     img3         sky    0  128  128  40450.0  41.118953      0.0   \n",
              "15         5     img4      houses  255  255  255  19712.0   7.138723      2.0   \n",
              "16         5     img4       trees    0  128    0  52200.0  12.282692      0.0   \n",
              "17         5     img4        path  128  128  128   8232.0  57.992894      0.0   \n",
              "18         5     img4        land    0  255    0  32546.0  41.189866      0.0   \n",
              "19         5     img4         sky    0  255  255  41711.0  30.913366      0.0   \n",
              "\n",
              "    class  \n",
              "0       2  \n",
              "1       0  \n",
              "2       1  \n",
              "3       0  \n",
              "4       2  \n",
              "5       2  \n",
              "6       2  \n",
              "7       0  \n",
              "8       2  \n",
              "9       1  \n",
              "10      0  \n",
              "11      0  \n",
              "12      0  \n",
              "13      0  \n",
              "14      0  \n",
              "15      2  \n",
              "16      0  \n",
              "17      0  \n",
              "18      0  \n",
              "19      0  "
            ]
          },
          "execution_count": 85,
          "metadata": {},
          "output_type": "execute_result"
        }
      ],
      "source": [
        "data.insert(data.shape[1]-1, \"size\", obj_sizes) \n",
        "data.insert(data.shape[1]-1, \"loc\", obj_locs)\n",
        "data.insert(data.shape[1]-1, \"cnn_imp\", object_imp)\n",
        "data.head(20)\n",
        "\n",
        "\n"
      ]
    },
    {
      "cell_type": "code",
      "execution_count": 44,
      "metadata": {},
      "outputs": [
        {
          "data": {
            "text/html": [
              "<div>\n",
              "<style scoped>\n",
              "    .dataframe tbody tr th:only-of-type {\n",
              "        vertical-align: middle;\n",
              "    }\n",
              "\n",
              "    .dataframe tbody tr th {\n",
              "        vertical-align: top;\n",
              "    }\n",
              "\n",
              "    .dataframe thead th {\n",
              "        text-align: right;\n",
              "    }\n",
              "</style>\n",
              "<table border=\"1\" class=\"dataframe\">\n",
              "  <thead>\n",
              "    <tr style=\"text-align: right;\">\n",
              "      <th></th>\n",
              "      <th>num_objs</th>\n",
              "      <th>img_name</th>\n",
              "      <th>obj_name</th>\n",
              "      <th>R</th>\n",
              "      <th>G</th>\n",
              "      <th>B</th>\n",
              "      <th>size</th>\n",
              "      <th>loc</th>\n",
              "      <th>cnn_imp</th>\n",
              "      <th>class</th>\n",
              "    </tr>\n",
              "  </thead>\n",
              "  <tbody>\n",
              "    <tr>\n",
              "      <th>561</th>\n",
              "      <td>3</td>\n",
              "      <td>img146</td>\n",
              "      <td>animal</td>\n",
              "      <td>255</td>\n",
              "      <td>255</td>\n",
              "      <td>255</td>\n",
              "      <td>18687.0</td>\n",
              "      <td>20.375901</td>\n",
              "      <td>2.0</td>\n",
              "      <td>2</td>\n",
              "    </tr>\n",
              "    <tr>\n",
              "      <th>562</th>\n",
              "      <td>3</td>\n",
              "      <td>img146</td>\n",
              "      <td>snow</td>\n",
              "      <td>0</td>\n",
              "      <td>128</td>\n",
              "      <td>0</td>\n",
              "      <td>60829.0</td>\n",
              "      <td>23.978414</td>\n",
              "      <td>0.0</td>\n",
              "      <td>0</td>\n",
              "    </tr>\n",
              "    <tr>\n",
              "      <th>563</th>\n",
              "      <td>3</td>\n",
              "      <td>img146</td>\n",
              "      <td>tree barks</td>\n",
              "      <td>128</td>\n",
              "      <td>128</td>\n",
              "      <td>128</td>\n",
              "      <td>74874.0</td>\n",
              "      <td>23.682950</td>\n",
              "      <td>0.0</td>\n",
              "      <td>0</td>\n",
              "    </tr>\n",
              "    <tr>\n",
              "      <th>564</th>\n",
              "      <td>4</td>\n",
              "      <td>img147</td>\n",
              "      <td>snake</td>\n",
              "      <td>255</td>\n",
              "      <td>255</td>\n",
              "      <td>255</td>\n",
              "      <td>8817.0</td>\n",
              "      <td>39.769428</td>\n",
              "      <td>1.0</td>\n",
              "      <td>2</td>\n",
              "    </tr>\n",
              "    <tr>\n",
              "      <th>565</th>\n",
              "      <td>4</td>\n",
              "      <td>img147</td>\n",
              "      <td>insect</td>\n",
              "      <td>128</td>\n",
              "      <td>128</td>\n",
              "      <td>128</td>\n",
              "      <td>2943.0</td>\n",
              "      <td>19.830751</td>\n",
              "      <td>2.0</td>\n",
              "      <td>2</td>\n",
              "    </tr>\n",
              "    <tr>\n",
              "      <th>566</th>\n",
              "      <td>4</td>\n",
              "      <td>img147</td>\n",
              "      <td>rock-insect</td>\n",
              "      <td>0</td>\n",
              "      <td>128</td>\n",
              "      <td>0</td>\n",
              "      <td>4062.0</td>\n",
              "      <td>33.295716</td>\n",
              "      <td>2.0</td>\n",
              "      <td>0</td>\n",
              "    </tr>\n",
              "    <tr>\n",
              "      <th>567</th>\n",
              "      <td>4</td>\n",
              "      <td>img147</td>\n",
              "      <td>ground</td>\n",
              "      <td>0</td>\n",
              "      <td>255</td>\n",
              "      <td>255</td>\n",
              "      <td>138570.0</td>\n",
              "      <td>1.793309</td>\n",
              "      <td>0.0</td>\n",
              "      <td>0</td>\n",
              "    </tr>\n",
              "    <tr>\n",
              "      <th>568</th>\n",
              "      <td>3</td>\n",
              "      <td>img148</td>\n",
              "      <td>lizard</td>\n",
              "      <td>255</td>\n",
              "      <td>255</td>\n",
              "      <td>255</td>\n",
              "      <td>28634.0</td>\n",
              "      <td>4.535950</td>\n",
              "      <td>2.0</td>\n",
              "      <td>2</td>\n",
              "    </tr>\n",
              "    <tr>\n",
              "      <th>569</th>\n",
              "      <td>3</td>\n",
              "      <td>img148</td>\n",
              "      <td>rock</td>\n",
              "      <td>192</td>\n",
              "      <td>192</td>\n",
              "      <td>192</td>\n",
              "      <td>47305.0</td>\n",
              "      <td>33.932877</td>\n",
              "      <td>2.0</td>\n",
              "      <td>0</td>\n",
              "    </tr>\n",
              "    <tr>\n",
              "      <th>570</th>\n",
              "      <td>3</td>\n",
              "      <td>img148</td>\n",
              "      <td>background</td>\n",
              "      <td>0</td>\n",
              "      <td>255</td>\n",
              "      <td>255</td>\n",
              "      <td>78437.0</td>\n",
              "      <td>21.925983</td>\n",
              "      <td>0.0</td>\n",
              "      <td>0</td>\n",
              "    </tr>\n",
              "    <tr>\n",
              "      <th>571</th>\n",
              "      <td>3</td>\n",
              "      <td>img149</td>\n",
              "      <td>animals</td>\n",
              "      <td>255</td>\n",
              "      <td>255</td>\n",
              "      <td>255</td>\n",
              "      <td>31460.0</td>\n",
              "      <td>14.070798</td>\n",
              "      <td>2.0</td>\n",
              "      <td>2</td>\n",
              "    </tr>\n",
              "    <tr>\n",
              "      <th>572</th>\n",
              "      <td>3</td>\n",
              "      <td>img149</td>\n",
              "      <td>ground</td>\n",
              "      <td>0</td>\n",
              "      <td>132</td>\n",
              "      <td>0</td>\n",
              "      <td>87599.0</td>\n",
              "      <td>18.334821</td>\n",
              "      <td>0.0</td>\n",
              "      <td>1</td>\n",
              "    </tr>\n",
              "    <tr>\n",
              "      <th>573</th>\n",
              "      <td>3</td>\n",
              "      <td>img149</td>\n",
              "      <td>background</td>\n",
              "      <td>0</td>\n",
              "      <td>255</td>\n",
              "      <td>255</td>\n",
              "      <td>35337.0</td>\n",
              "      <td>42.743512</td>\n",
              "      <td>0.0</td>\n",
              "      <td>0</td>\n",
              "    </tr>\n",
              "    <tr>\n",
              "      <th>574</th>\n",
              "      <td>7</td>\n",
              "      <td>img150</td>\n",
              "      <td>man</td>\n",
              "      <td>255</td>\n",
              "      <td>255</td>\n",
              "      <td>255</td>\n",
              "      <td>24309.0</td>\n",
              "      <td>26.536739</td>\n",
              "      <td>2.0</td>\n",
              "      <td>2</td>\n",
              "    </tr>\n",
              "    <tr>\n",
              "      <th>575</th>\n",
              "      <td>7</td>\n",
              "      <td>img150</td>\n",
              "      <td>pole</td>\n",
              "      <td>255</td>\n",
              "      <td>0</td>\n",
              "      <td>0</td>\n",
              "      <td>4079.0</td>\n",
              "      <td>13.181010</td>\n",
              "      <td>2.0</td>\n",
              "      <td>1</td>\n",
              "    </tr>\n",
              "    <tr>\n",
              "      <th>576</th>\n",
              "      <td>7</td>\n",
              "      <td>img150</td>\n",
              "      <td>hut</td>\n",
              "      <td>128</td>\n",
              "      <td>0</td>\n",
              "      <td>0</td>\n",
              "      <td>4445.0</td>\n",
              "      <td>44.785616</td>\n",
              "      <td>0.0</td>\n",
              "      <td>1</td>\n",
              "    </tr>\n",
              "    <tr>\n",
              "      <th>577</th>\n",
              "      <td>7</td>\n",
              "      <td>img150</td>\n",
              "      <td>water</td>\n",
              "      <td>0</td>\n",
              "      <td>255</td>\n",
              "      <td>0</td>\n",
              "      <td>48272.0</td>\n",
              "      <td>46.144572</td>\n",
              "      <td>0.0</td>\n",
              "      <td>1</td>\n",
              "    </tr>\n",
              "    <tr>\n",
              "      <th>578</th>\n",
              "      <td>7</td>\n",
              "      <td>img150</td>\n",
              "      <td>deck</td>\n",
              "      <td>128</td>\n",
              "      <td>128</td>\n",
              "      <td>128</td>\n",
              "      <td>4551.0</td>\n",
              "      <td>78.939187</td>\n",
              "      <td>0.0</td>\n",
              "      <td>0</td>\n",
              "    </tr>\n",
              "    <tr>\n",
              "      <th>579</th>\n",
              "      <td>7</td>\n",
              "      <td>img150</td>\n",
              "      <td>trees</td>\n",
              "      <td>0</td>\n",
              "      <td>128</td>\n",
              "      <td>0</td>\n",
              "      <td>24430.0</td>\n",
              "      <td>9.530321</td>\n",
              "      <td>0.0</td>\n",
              "      <td>0</td>\n",
              "    </tr>\n",
              "    <tr>\n",
              "      <th>580</th>\n",
              "      <td>7</td>\n",
              "      <td>img150</td>\n",
              "      <td>sky</td>\n",
              "      <td>0</td>\n",
              "      <td>255</td>\n",
              "      <td>255</td>\n",
              "      <td>44282.0</td>\n",
              "      <td>58.166751</td>\n",
              "      <td>0.0</td>\n",
              "      <td>0</td>\n",
              "    </tr>\n",
              "  </tbody>\n",
              "</table>\n",
              "</div>"
            ],
            "text/plain": [
              "     num_objs img_name     obj_name    R    G    B      size        loc  \\\n",
              "561         3   img146       animal  255  255  255   18687.0  20.375901   \n",
              "562         3   img146         snow    0  128    0   60829.0  23.978414   \n",
              "563         3   img146   tree barks  128  128  128   74874.0  23.682950   \n",
              "564         4   img147        snake  255  255  255    8817.0  39.769428   \n",
              "565         4   img147       insect  128  128  128    2943.0  19.830751   \n",
              "566         4   img147  rock-insect    0  128    0    4062.0  33.295716   \n",
              "567         4   img147       ground    0  255  255  138570.0   1.793309   \n",
              "568         3   img148       lizard  255  255  255   28634.0   4.535950   \n",
              "569         3   img148         rock  192  192  192   47305.0  33.932877   \n",
              "570         3   img148   background    0  255  255   78437.0  21.925983   \n",
              "571         3   img149      animals  255  255  255   31460.0  14.070798   \n",
              "572         3   img149       ground    0  132    0   87599.0  18.334821   \n",
              "573         3   img149   background    0  255  255   35337.0  42.743512   \n",
              "574         7   img150          man  255  255  255   24309.0  26.536739   \n",
              "575         7   img150         pole  255    0    0    4079.0  13.181010   \n",
              "576         7   img150          hut  128    0    0    4445.0  44.785616   \n",
              "577         7   img150        water    0  255    0   48272.0  46.144572   \n",
              "578         7   img150         deck  128  128  128    4551.0  78.939187   \n",
              "579         7   img150        trees    0  128    0   24430.0   9.530321   \n",
              "580         7   img150          sky    0  255  255   44282.0  58.166751   \n",
              "\n",
              "     cnn_imp  class  \n",
              "561      2.0      2  \n",
              "562      0.0      0  \n",
              "563      0.0      0  \n",
              "564      1.0      2  \n",
              "565      2.0      2  \n",
              "566      2.0      0  \n",
              "567      0.0      0  \n",
              "568      2.0      2  \n",
              "569      2.0      0  \n",
              "570      0.0      0  \n",
              "571      2.0      2  \n",
              "572      0.0      1  \n",
              "573      0.0      0  \n",
              "574      2.0      2  \n",
              "575      2.0      1  \n",
              "576      0.0      1  \n",
              "577      0.0      1  \n",
              "578      0.0      0  \n",
              "579      0.0      0  \n",
              "580      0.0      0  "
            ]
          },
          "execution_count": 44,
          "metadata": {},
          "output_type": "execute_result"
        }
      ],
      "source": [
        "data.tail(20)"
      ]
    },
    {
      "cell_type": "code",
      "execution_count": 86,
      "metadata": {},
      "outputs": [],
      "source": [
        "data_trn = data.iloc[:302] # first 75 images\n",
        "data_tst = data.iloc[302:] # last 75 images\n",
        "\n",
        "# in this demo, we will use only two features\n",
        "# (you can use more after you've computed them)\n",
        "feature_names = [\"size\", \"loc\", \"cnn_imp\"]\n",
        "\n",
        "X_trn = np.array(data_trn[feature_names])\n",
        "y_trn = np.array(data_trn[\"class\"])\n",
        "\n",
        "X_tst = np.array(data_tst[feature_names])\n",
        "y_tst = np.array(data_tst[\"class\"])"
      ]
    },
    {
      "cell_type": "code",
      "execution_count": 90,
      "metadata": {},
      "outputs": [
        {
          "name": "stdout",
          "output_type": "stream",
          "text": [
            "Training accuracy:  0.5927152317880795\n",
            "Testing accuracy:  0.6200716845878136\n"
          ]
        }
      ],
      "source": [
        "# model = GaussianNB()\n",
        "# model = DecisionTreeClassifier()\n",
        "model = SVC(kernel='linear', C=2)\n",
        "model.fit(X_trn, y_trn)\n",
        "\n",
        "y_trn_prd = model.predict(X_trn)\n",
        "print('Training accuracy: ', \n",
        "  accuracy_score(y_true=y_trn, y_pred=y_trn_prd))\n",
        "\n",
        "y_tst_prd = model.predict(X_tst)\n",
        "print('Testing accuracy: ', \n",
        "  accuracy_score(y_true=y_tst, y_pred=y_tst_prd))"
      ]
    },
    {
      "cell_type": "code",
      "execution_count": 25,
      "metadata": {},
      "outputs": [],
      "source": [
        "def imshow(img, cmap=\"gray\", vmin=0, vmax=1, frameon=False, zoom=1.0):\n",
        "\n",
        "  dpi = float(matplotlib.rcParams['figure.dpi'])/zoom\n",
        "\n",
        "  fig = plt.figure(figsize=[img.shape[1]/dpi, img.shape[0]/dpi],\n",
        "                   frameon=frameon)\n",
        "  ax = fig.add_axes([0, 0, 1, 1])\n",
        "  ax.axis('off')\n",
        "  ax.imshow(img, cmap=cmap, vmin=vmin, vmax=vmax)\n",
        "\n",
        "  plt.show()\n",
        "#-------------------------------------------------------------------\n",
        "\n",
        "def show(close=None, block=None):\n",
        "\n",
        "  plt.show(close, block)"
      ]
    },
    {
      "cell_type": "code",
      "execution_count": 36,
      "metadata": {},
      "outputs": [
        {
          "name": "stdout",
          "output_type": "stream",
          "text": [
            "Index:  49\n",
            "Image Name: img88\n",
            "Original image\n"
          ]
        },
        {
          "data": {
            "image/png": "[encoded data removed]",
            "text/plain": [
              "<Figure size 240.5x160.5 with 1 Axes>"
            ]
          },
          "metadata": {
            "needs_background": "light"
          },
          "output_type": "display_data"
        },
        {
          "name": "stdout",
          "output_type": "stream",
          "text": [
            "Mask image\n"
          ]
        },
        {
          "data": {
            "image/png": "[encoded data removed]",
            "text/plain": [
              "<Figure size 240.5x160.5 with 1 Axes>"
            ]
          },
          "metadata": {
            "needs_background": "light"
          },
          "output_type": "display_data"
        },
        {
          "name": "stdout",
          "output_type": "stream",
          "text": [
            "Ground-truth importance map\n"
          ]
        },
        {
          "data": {
            "image/png": "[encoded data removed]",
            "text/plain": [
              "<Figure size 240.5x160.5 with 1 Axes>"
            ]
          },
          "metadata": {
            "needs_background": "light"
          },
          "output_type": "display_data"
        },
        {
          "name": "stdout",
          "output_type": "stream",
          "text": [
            "Predicted importance map\n"
          ]
        },
        {
          "data": {
            "image/png": "[encoded data removed]",
            "text/plain": [
              "<Figure size 240.5x160.5 with 1 Axes>"
            ]
          },
          "metadata": {
            "needs_background": "light"
          },
          "output_type": "display_data"
        }
      ],
      "source": [
        "#show GT and prediction\n",
        "img_name = 'img88'\n",
        "idx = data_tst.index[data_tst[\"img_name\"]==img_name][0] - 302\n",
        "\n",
        "img_name = data_tst.iat[idx, 1]\n",
        "print(\"Index: \", idx)\n",
        "print(\"Image Name:\", img_name)\n",
        "\n",
        "src_img = cv.imread(\"database/imgs/\" + img_name + \".bmp\")\n",
        "src_img = cv.cvtColor(src_img, cv.COLOR_BGR2RGB)\n",
        "msk_img = cv.imread(\"database/imgs/msk/\" + img_name + \"_msk.bmp\")\n",
        "msk_img = cv.cvtColor(msk_img, cv.COLOR_BGR2RGB)    \n",
        "\n",
        "print(\"Original image\")\n",
        "imshow(src_img, zoom=0.5)\n",
        "print(\"Mask image\")\n",
        "imshow(msk_img, zoom=0.5)\n",
        "\n",
        "num_rows = src_img.shape[0]\n",
        "num_cols = src_img.shape[1]\n",
        "\n",
        "imp_map = np.zeros((num_rows, num_cols))\n",
        "imp_map_prd = np.zeros((num_rows, num_cols))\n",
        "\n",
        "num_objs = int(data_tst.iat[idx, 0])\n",
        "for obj_idx in range(num_objs):\n",
        "  obj_name = data_tst.iat[idx+obj_idx, 2]\n",
        "  obj_clr_r = data_tst.iat[idx+obj_idx, 3]\n",
        "  obj_clr_g = data_tst.iat[idx+obj_idx, 4]\n",
        "  obj_clr_b = data_tst.iat[idx+obj_idx, 5]\n",
        "\n",
        "  # class_label = data_tst.iat[idx+obj_idx, 12]\n",
        "  class_label = y_tst[idx+obj_idx]\n",
        "  class_label_prd = model.predict((X_tst[idx+obj_idx],))\n",
        "  imp_val = float(class_label) * 127.5\n",
        "  imp_val_prd = float(class_label_prd) * 127.5\n",
        "\n",
        "  for r in range(num_rows):\n",
        "    for c in range(num_cols):\n",
        "      if (msk_img[r, c, 0] == obj_clr_r) and \\\n",
        "        (msk_img[r, c, 1] == obj_clr_g) and \\\n",
        "        (msk_img[r, c, 2] == obj_clr_b):\n",
        "        imp_map[r, c] = imp_val\n",
        "        imp_map_prd[r, c] = imp_val_prd\n",
        "\n",
        "print(\"Ground-truth importance map\")\n",
        "imshow(imp_map, cmap=\"gray\", \n",
        "  vmin=0, vmax=255, zoom=0.5)\n",
        "\n",
        "print(\"Predicted importance map\")\n",
        "imshow(imp_map_prd, cmap=\"gray\", \n",
        "  vmin=0, vmax=255, zoom=0.5)"
      ]
    }
  ],
  "metadata": {
    "accelerator": "GPU",
    "colab": {
      "collapsed_sections": [],
      "name": "CNN_Important.ipynb",
      "provenance": []
    },
    "gpuClass": "standard",
    "kernelspec": {
      "display_name": "Python 3.10.4 ('tf_env')",
      "language": "python",
      "name": "python3"
    },
    "language_info": {
      "codemirror_mode": {
        "name": "ipython",
        "version": 3
      },
      "file_extension": ".py",
      "mimetype": "text/x-python",
      "name": "python",
      "nbconvert_exporter": "python",
      "pygments_lexer": "ipython3",
      "version": "3.10.4"
    },
    "vscode": {
      "interpreter": {
        "hash": "d9f66f7000aed9c214ea2b714ffd61096f44492ad4a5cc26efd130f6c5964d0a"
      }
    }
  },
  "nbformat": 4,
  "nbformat_minor": 0
}
